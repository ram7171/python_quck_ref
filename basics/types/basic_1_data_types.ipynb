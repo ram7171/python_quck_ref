{
 "cells": [
  {
   "cell_type": "code",
   "execution_count": 76,
   "id": "f4947d72-7337-42c9-87f1-d2ae1b59087a",
   "metadata": {},
   "outputs": [],
   "source": [
    "from decimal import Decimal, getcontext\n",
    "import math"
   ]
  },
  {
   "cell_type": "markdown",
   "id": "ca594355-d7a1-4dd1-85bf-a3e53890f326",
   "metadata": {},
   "source": [
    "## Ints and Floats"
   ]
  },
  {
   "cell_type": "code",
   "execution_count": 3,
   "id": "a2f4e800-02cb-43f2-8d62-a9dcafb81ce7",
   "metadata": {},
   "outputs": [
    {
     "data": {
      "text/plain": [
       "8"
      ]
     },
     "execution_count": 3,
     "metadata": {},
     "output_type": "execute_result"
    }
   ],
   "source": [
    "4+4\n"
   ]
  },
  {
   "cell_type": "code",
   "execution_count": 4,
   "id": "ef5259ba-3d4b-4958-a6ac-2f28c3da0074",
   "metadata": {},
   "outputs": [
    {
     "data": {
      "text/plain": [
       "5.0"
      ]
     },
     "execution_count": 4,
     "metadata": {},
     "output_type": "execute_result"
    }
   ],
   "source": [
    "20/4"
   ]
  },
  {
   "cell_type": "code",
   "execution_count": 5,
   "id": "8dffdcab-0ea7-4ab1-8131-71698f83b287",
   "metadata": {},
   "outputs": [
    {
     "data": {
      "text/plain": [
       "5"
      ]
     },
     "execution_count": 5,
     "metadata": {},
     "output_type": "execute_result"
    }
   ],
   "source": [
    "int(20/4)\n"
   ]
  },
  {
   "cell_type": "code",
   "execution_count": 6,
   "id": "344922d0-a1f3-49a9-8e6c-c2173f3a9aea",
   "metadata": {},
   "outputs": [
    {
     "data": {
      "text/plain": [
       "256.0"
      ]
     },
     "execution_count": 6,
     "metadata": {},
     "output_type": "execute_result"
    }
   ],
   "source": [
    "4 ** 4.0"
   ]
  },
  {
   "cell_type": "code",
   "execution_count": 7,
   "id": "9efe3243-ff5f-4c28-803a-9afffccc8487",
   "metadata": {},
   "outputs": [
    {
     "data": {
      "text/plain": [
       "256"
      ]
     },
     "execution_count": 7,
     "metadata": {},
     "output_type": "execute_result"
    }
   ],
   "source": [
    "int(4 ** 4.0)"
   ]
  },
  {
   "cell_type": "code",
   "execution_count": 8,
   "id": "0821f825-6d74-49eb-b45e-fbf8d0f0045c",
   "metadata": {},
   "outputs": [
    {
     "data": {
      "text/plain": [
       "8"
      ]
     },
     "execution_count": 8,
     "metadata": {},
     "output_type": "execute_result"
    }
   ],
   "source": [
    "int(8.9)"
   ]
  },
  {
   "cell_type": "code",
   "execution_count": 9,
   "id": "feed517d-9760-4827-a61a-fe6dba7e50e9",
   "metadata": {},
   "outputs": [
    {
     "data": {
      "text/plain": [
       "8"
      ]
     },
     "execution_count": 9,
     "metadata": {},
     "output_type": "execute_result"
    }
   ],
   "source": [
    "int(8.9999999999999)"
   ]
  },
  {
   "cell_type": "code",
   "execution_count": 10,
   "id": "c44bb753-c523-4e4a-adff-054369257e72",
   "metadata": {},
   "outputs": [
    {
     "data": {
      "text/plain": [
       "4"
      ]
     },
     "execution_count": 10,
     "metadata": {},
     "output_type": "execute_result"
    }
   ],
   "source": [
    "int(14/3)"
   ]
  },
  {
   "cell_type": "code",
   "execution_count": 11,
   "id": "702ab974-3fd8-4153-9d94-5bd230031b38",
   "metadata": {},
   "outputs": [
    {
     "data": {
      "text/plain": [
       "5"
      ]
     },
     "execution_count": 11,
     "metadata": {},
     "output_type": "execute_result"
    }
   ],
   "source": [
    "round(14/3)"
   ]
  },
  {
   "cell_type": "code",
   "execution_count": 12,
   "id": "23db775e-785c-4250-98c5-7046650d201f",
   "metadata": {},
   "outputs": [
    {
     "data": {
      "text/plain": [
       "4.67"
      ]
     },
     "execution_count": 12,
     "metadata": {},
     "output_type": "execute_result"
    }
   ],
   "source": [
    "round(14/3, 2)"
   ]
  },
  {
   "cell_type": "code",
   "execution_count": 13,
   "id": "35e3d2d9-844e-4ecb-89f1-12aea056e017",
   "metadata": {},
   "outputs": [
    {
     "data": {
      "text/plain": [
       "0.19999999999999996"
      ]
     },
     "execution_count": 13,
     "metadata": {},
     "output_type": "execute_result"
    }
   ],
   "source": [
    "1.2- 1.0"
   ]
  },
  {
   "cell_type": "markdown",
   "id": "fbe53516-392d-429d-92df-aa0bfd2fcdab",
   "metadata": {},
   "source": [
    "## Decimal"
   ]
  },
  {
   "cell_type": "code",
   "execution_count": 15,
   "id": "54b10941-0c98-425f-a64f-d5d16b944903",
   "metadata": {},
   "outputs": [
    {
     "data": {
      "text/plain": [
       "Context(prec=28, rounding=ROUND_HALF_EVEN, Emin=-999999, Emax=999999, capitals=1, clamp=0, flags=[], traps=[InvalidOperation, DivisionByZero, Overflow])"
      ]
     },
     "execution_count": 15,
     "metadata": {},
     "output_type": "execute_result"
    }
   ],
   "source": [
    "getcontext()"
   ]
  },
  {
   "cell_type": "code",
   "execution_count": 16,
   "id": "f65b32ff-3a40-4e91-bb2d-92c39155f7bc",
   "metadata": {},
   "outputs": [],
   "source": [
    "getcontext().prec = 4"
   ]
  },
  {
   "cell_type": "code",
   "execution_count": 17,
   "id": "2c5acbbf-88b8-411d-8d69-bf92c951e8d2",
   "metadata": {},
   "outputs": [
    {
     "data": {
      "text/plain": [
       "Decimal('0.3333')"
      ]
     },
     "execution_count": 17,
     "metadata": {},
     "output_type": "execute_result"
    }
   ],
   "source": [
    "Decimal(1) / Decimal(3)"
   ]
  },
  {
   "cell_type": "code",
   "execution_count": 18,
   "id": "ae00c682-04a8-49f9-8869-6419dea5922f",
   "metadata": {},
   "outputs": [],
   "source": [
    "getcontext().prec = 2"
   ]
  },
  {
   "cell_type": "code",
   "execution_count": 19,
   "id": "89a7587e-7c6d-4ceb-b0e1-6aa079a1f1f1",
   "metadata": {},
   "outputs": [
    {
     "data": {
      "text/plain": [
       "Decimal('0.33')"
      ]
     },
     "execution_count": 19,
     "metadata": {},
     "output_type": "execute_result"
    }
   ],
   "source": [
    "Decimal(1) / Decimal(3)"
   ]
  },
  {
   "cell_type": "code",
   "execution_count": 20,
   "id": "7849de79-0845-4678-9634-47f5cac65bf3",
   "metadata": {},
   "outputs": [
    {
     "data": {
      "text/plain": [
       "Decimal('3.100000000000000088817841970012523233890533447265625')"
      ]
     },
     "execution_count": 20,
     "metadata": {},
     "output_type": "execute_result"
    }
   ],
   "source": [
    "Decimal(3.1)"
   ]
  },
  {
   "cell_type": "code",
   "execution_count": 21,
   "id": "aaaa2b0c-7b90-4c5b-a612-17d6a4a82abd",
   "metadata": {},
   "outputs": [
    {
     "data": {
      "text/plain": [
       "Decimal('3.1')"
      ]
     },
     "execution_count": 21,
     "metadata": {},
     "output_type": "execute_result"
    }
   ],
   "source": [
    "Decimal('3.1')"
   ]
  },
  {
   "cell_type": "code",
   "execution_count": 23,
   "id": "734ccc90-9b6a-4834-8aa8-6998408ad436",
   "metadata": {},
   "outputs": [
    {
     "data": {
      "text/plain": [
       "0.2"
      ]
     },
     "execution_count": 23,
     "metadata": {},
     "output_type": "execute_result"
    }
   ],
   "source": [
    "round(1.2 - 1.0, 2)"
   ]
  },
  {
   "cell_type": "code",
   "execution_count": 24,
   "id": "59b4e3ec-e31c-4ef6-b876-d53c26ec7a60",
   "metadata": {},
   "outputs": [
    {
     "data": {
      "text/plain": [
       "0"
      ]
     },
     "execution_count": 24,
     "metadata": {},
     "output_type": "execute_result"
    }
   ],
   "source": [
    "round(1.2 - 1.0)"
   ]
  },
  {
   "cell_type": "code",
   "execution_count": 25,
   "id": "1be1e573-4896-4e5e-8fd4-cf78dbdcebfc",
   "metadata": {},
   "outputs": [
    {
     "data": {
      "text/plain": [
       "0.19999999999999996"
      ]
     },
     "execution_count": 25,
     "metadata": {},
     "output_type": "execute_result"
    }
   ],
   "source": [
    "1.2 - 1.0"
   ]
  },
  {
   "cell_type": "markdown",
   "id": "65a2962c-9ae7-4d2d-bdbe-0e50bfc9ab29",
   "metadata": {},
   "source": [
    " ## Boolean"
   ]
  },
  {
   "cell_type": "markdown",
   "id": "a5b1fb5c-27ae-4917-a803-ac86381d9f8f",
   "metadata": {},
   "source": [
    "### Casting Booleans"
   ]
  },
  {
   "cell_type": "code",
   "execution_count": 26,
   "id": "858a86dc-6dd8-446b-b4ad-7e7827f18295",
   "metadata": {},
   "outputs": [
    {
     "data": {
      "text/plain": [
       "True"
      ]
     },
     "execution_count": 26,
     "metadata": {},
     "output_type": "execute_result"
    }
   ],
   "source": [
    "bool(1)"
   ]
  },
  {
   "cell_type": "code",
   "execution_count": 27,
   "id": "cc4cc4e3-cf95-45a9-8287-c313c0727875",
   "metadata": {},
   "outputs": [
    {
     "data": {
      "text/plain": [
       "False"
      ]
     },
     "execution_count": 27,
     "metadata": {},
     "output_type": "execute_result"
    }
   ],
   "source": [
    "bool(0)"
   ]
  },
  {
   "cell_type": "code",
   "execution_count": 28,
   "id": "b0440095-d0ea-4f1e-987d-7c52df0410f8",
   "metadata": {},
   "outputs": [
    {
     "data": {
      "text/plain": [
       "True"
      ]
     },
     "execution_count": 28,
     "metadata": {},
     "output_type": "execute_result"
    }
   ],
   "source": [
    "bool('a')"
   ]
  },
  {
   "cell_type": "code",
   "execution_count": 29,
   "id": "6f57684f-df77-44df-a963-3e8f41a2eea2",
   "metadata": {},
   "outputs": [
    {
     "data": {
      "text/plain": [
       "False"
      ]
     },
     "execution_count": 29,
     "metadata": {},
     "output_type": "execute_result"
    }
   ],
   "source": [
    "bool(0j)"
   ]
  },
  {
   "cell_type": "code",
   "execution_count": 30,
   "id": "4a36513e-5df2-4fbc-947c-4d8c28dd7fc8",
   "metadata": {},
   "outputs": [
    {
     "data": {
      "text/plain": [
       "True"
      ]
     },
     "execution_count": 30,
     "metadata": {},
     "output_type": "execute_result"
    }
   ],
   "source": [
    "bool(-1)"
   ]
  },
  {
   "cell_type": "code",
   "execution_count": 31,
   "id": "00276acb-2a6d-4f66-8385-08c8645d7396",
   "metadata": {},
   "outputs": [
    {
     "data": {
      "text/plain": [
       "True"
      ]
     },
     "execution_count": 31,
     "metadata": {},
     "output_type": "execute_result"
    }
   ],
   "source": [
    "bool('True');bool('False')"
   ]
  },
  {
   "cell_type": "code",
   "execution_count": 32,
   "id": "fcfc0417-be5a-4de7-af28-ec30eec60e30",
   "metadata": {},
   "outputs": [
    {
     "data": {
      "text/plain": [
       "True"
      ]
     },
     "execution_count": 32,
     "metadata": {},
     "output_type": "execute_result"
    }
   ],
   "source": [
    "bool('False')"
   ]
  },
  {
   "cell_type": "code",
   "execution_count": 33,
   "id": "a0183539-3c17-498f-9217-3e4a39df5e04",
   "metadata": {},
   "outputs": [
    {
     "data": {
      "text/plain": [
       "True"
      ]
     },
     "execution_count": 33,
     "metadata": {},
     "output_type": "execute_result"
    }
   ],
   "source": [
    "bool('True') and bool('False')"
   ]
  },
  {
   "cell_type": "code",
   "execution_count": 34,
   "id": "fece6ec8-9708-41c9-bede-81ea31600056",
   "metadata": {},
   "outputs": [
    {
     "data": {
      "text/plain": [
       "False"
      ]
     },
     "execution_count": 34,
     "metadata": {},
     "output_type": "execute_result"
    }
   ],
   "source": [
    "bool(0) and bool('1')"
   ]
  },
  {
   "cell_type": "code",
   "execution_count": 36,
   "id": "1b965fef-a720-47b4-9c96-f81d9a998191",
   "metadata": {},
   "outputs": [
    {
     "data": {
      "text/plain": [
       "False"
      ]
     },
     "execution_count": 36,
     "metadata": {},
     "output_type": "execute_result"
    }
   ],
   "source": [
    "bool('') #empty string is false"
   ]
  },
  {
   "cell_type": "code",
   "execution_count": 37,
   "id": "87709122-74b6-4eb5-b042-dc4b36a74d62",
   "metadata": {},
   "outputs": [
    {
     "data": {
      "text/plain": [
       "True"
      ]
     },
     "execution_count": 37,
     "metadata": {},
     "output_type": "execute_result"
    }
   ],
   "source": [
    "bool(' ') #space is true"
   ]
  },
  {
   "cell_type": "code",
   "execution_count": 39,
   "id": "16705095-e687-46e9-9a79-95cee6218887",
   "metadata": {},
   "outputs": [
    {
     "data": {
      "text/plain": [
       "False"
      ]
     },
     "execution_count": 39,
     "metadata": {},
     "output_type": "execute_result"
    }
   ],
   "source": [
    "bool([]) # empty lis false"
   ]
  },
  {
   "cell_type": "code",
   "execution_count": 41,
   "id": "3eebd4de-fb11-429e-a537-a2c32aa1a944",
   "metadata": {},
   "outputs": [
    {
     "data": {
      "text/plain": [
       "False"
      ]
     },
     "execution_count": 41,
     "metadata": {},
     "output_type": "execute_result"
    }
   ],
   "source": [
    "bool({}) # empty dictionary is false"
   ]
  },
  {
   "cell_type": "code",
   "execution_count": 42,
   "id": "3a49bcd7-3f10-4dcf-9d58-bfde5a3692a0",
   "metadata": {},
   "outputs": [
    {
     "ename": "TypeError",
     "evalue": "unhashable type: 'list'",
     "output_type": "error",
     "traceback": [
      "\u001b[0;31m---------------------------------------------------------------------------\u001b[0m",
      "\u001b[0;31mTypeError\u001b[0m                                 Traceback (most recent call last)",
      "Cell \u001b[0;32mIn[42], line 1\u001b[0m\n\u001b[0;32m----> 1\u001b[0m \u001b[38;5;28mbool\u001b[39m({[\u001b[38;5;241m1\u001b[39m]})\n",
      "\u001b[0;31mTypeError\u001b[0m: unhashable type: 'list'"
     ]
    }
   ],
   "source": [
    "bool({[1]})"
   ]
  },
  {
   "cell_type": "code",
   "execution_count": 43,
   "id": "c2252d97-4367-4716-9d31-99daac95dfba",
   "metadata": {},
   "outputs": [
    {
     "data": {
      "text/plain": [
       "True"
      ]
     },
     "execution_count": 43,
     "metadata": {},
     "output_type": "execute_result"
    }
   ],
   "source": [
    "bool({1: [1]})"
   ]
  },
  {
   "cell_type": "code",
   "execution_count": 44,
   "id": "84573490-217b-4ec3-bebc-34341e90e99c",
   "metadata": {},
   "outputs": [
    {
     "data": {
      "text/plain": [
       "False"
      ]
     },
     "execution_count": 44,
     "metadata": {},
     "output_type": "execute_result"
    }
   ],
   "source": [
    "bool(None)"
   ]
  },
  {
   "cell_type": "code",
   "execution_count": 45,
   "id": "e40167bd-9c32-49d1-803a-8d77cc336338",
   "metadata": {},
   "outputs": [
    {
     "name": "stdout",
     "output_type": "stream",
     "text": [
      "my list is true elements\n"
     ]
    }
   ],
   "source": [
    "myList = [1,3,4];\n",
    "if myList:\n",
    "    print('my list is true elements')"
   ]
  },
  {
   "cell_type": "code",
   "execution_count": 46,
   "id": "8f07343f-bf20-444c-ad84-db5dd5284631",
   "metadata": {},
   "outputs": [
    {
     "name": "stdout",
     "output_type": "stream",
     "text": [
      "my list is true elements\n"
     ]
    }
   ],
   "source": [
    "myList = [1,3,4];\n",
    "if myList or bool(myList):\n",
    "    print('my list is true elements')"
   ]
  },
  {
   "cell_type": "code",
   "execution_count": 47,
   "id": "81f96b79-aeb7-4a34-9c75-85e795a6e2e2",
   "metadata": {},
   "outputs": [
    {
     "name": "stdout",
     "output_type": "stream",
     "text": [
      "false\n"
     ]
    }
   ],
   "source": [
    "a = 5\n",
    "b = 5\n",
    "if a-b:\n",
    "    print(\"true\");\n",
    "else:\n",
    "    print('false');"
   ]
  },
  {
   "cell_type": "code",
   "execution_count": 48,
   "id": "a71d0bfe-0172-4482-866d-03a49b4f479b",
   "metadata": {},
   "outputs": [
    {
     "data": {
      "text/plain": [
       "True"
      ]
     },
     "execution_count": 48,
     "metadata": {},
     "output_type": "execute_result"
    }
   ],
   "source": [
    "a == b"
   ]
  },
  {
   "cell_type": "markdown",
   "id": "ca9129f8-0eb9-43dc-93e1-445294a05610",
   "metadata": {},
   "source": [
    "## Boolean Login"
   ]
  },
  {
   "cell_type": "code",
   "execution_count": 50,
   "id": "147a684a-e250-408d-be21-0d8d9bd20662",
   "metadata": {},
   "outputs": [
    {
     "name": "stdout",
     "output_type": "stream",
     "text": [
      "stay inside\n"
     ]
    }
   ],
   "source": [
    "weatherIsNice = True;\n",
    "haveUmberlla = False;\n",
    "if not haveUmberlla and weatherIsNice:\n",
    "    print('stay inside');\n",
    "else:\n",
    "    println('can go')"
   ]
  },
  {
   "cell_type": "code",
   "execution_count": 52,
   "id": "e0fd54d0-79d5-4f63-bbaa-16794bf588b6",
   "metadata": {},
   "outputs": [
    {
     "name": "stdout",
     "output_type": "stream",
     "text": [
      "can go\n"
     ]
    }
   ],
   "source": [
    "weatherIsNice = True;\n",
    "haveUmberlla = False;\n",
    "if not haveUmberlla and not weatherIsNice:\n",
    "    print('stay inside');\n",
    "else:\n",
    "    print('can go')"
   ]
  },
  {
   "cell_type": "code",
   "execution_count": 53,
   "id": "5d29ac7b-f8ed-40dd-a748-502830bbd758",
   "metadata": {},
   "outputs": [
    {
     "name": "stdout",
     "output_type": "stream",
     "text": [
      "stay inside\n"
     ]
    }
   ],
   "source": [
    "weatherIsNice = True;\n",
    "haveUmberlla = False;\n",
    "if not (haveUmberlla and weatherIsNice):\n",
    "    print('stay inside');\n",
    "else:\n",
    "    print('can go')"
   ]
  },
  {
   "cell_type": "markdown",
   "id": "c2af85c2-8970-4918-a27b-64d933246435",
   "metadata": {},
   "source": [
    "# Strings"
   ]
  },
  {
   "cell_type": "markdown",
   "id": "d8582d0d-1ab4-40a8-9fa0-9d6d9eb03504",
   "metadata": {},
   "source": [
    "### Slicing"
   ]
  },
  {
   "cell_type": "code",
   "execution_count": 55,
   "id": "c69575a5-c542-4525-b2d3-e52b81c46155",
   "metadata": {},
   "outputs": [],
   "source": [
    "name = 'This is python 3 learning course'"
   ]
  },
  {
   "cell_type": "code",
   "execution_count": 56,
   "id": "775cac6f-3aa4-48bc-a840-00ec2135b0a8",
   "metadata": {},
   "outputs": [
    {
     "data": {
      "text/plain": [
       "'his '"
      ]
     },
     "execution_count": 56,
     "metadata": {},
     "output_type": "execute_result"
    }
   ],
   "source": [
    "name[1:5]"
   ]
  },
  {
   "cell_type": "code",
   "execution_count": 57,
   "id": "213dc7e1-78b8-41c3-8bce-bd54553bba7c",
   "metadata": {},
   "outputs": [
    {
     "data": {
      "text/plain": [
       "'This is'"
      ]
     },
     "execution_count": 57,
     "metadata": {},
     "output_type": "execute_result"
    }
   ],
   "source": [
    "name[0:7]"
   ]
  },
  {
   "cell_type": "code",
   "execution_count": 58,
   "id": "358176ca-98a2-424d-9484-28a153919b50",
   "metadata": {},
   "outputs": [
    {
     "data": {
      "text/plain": [
       "'python 3 learning course'"
      ]
     },
     "execution_count": 58,
     "metadata": {},
     "output_type": "execute_result"
    }
   ],
   "source": [
    "name[8:]"
   ]
  },
  {
   "cell_type": "code",
   "execution_count": 59,
   "id": "02d20419-58a9-432b-b2b5-928e1f294512",
   "metadata": {},
   "outputs": [
    {
     "data": {
      "text/plain": [
       "'This is '"
      ]
     },
     "execution_count": 59,
     "metadata": {},
     "output_type": "execute_result"
    }
   ],
   "source": [
    "name[:8]"
   ]
  },
  {
   "cell_type": "code",
   "execution_count": 63,
   "id": "209dda58-4c9c-4424-a335-73bc7719d806",
   "metadata": {},
   "outputs": [],
   "source": [
    "myList = [1,3,2,4,5] # python treat string and list are same"
   ]
  },
  {
   "cell_type": "code",
   "execution_count": 62,
   "id": "0708a7a9-1b5c-4baa-a974-cf0241ce8753",
   "metadata": {},
   "outputs": [
    {
     "data": {
      "text/plain": [
       "[3, 2, 4]"
      ]
     },
     "execution_count": 62,
     "metadata": {},
     "output_type": "execute_result"
    }
   ],
   "source": [
    "myList[1: 4]"
   ]
  },
  {
   "cell_type": "code",
   "execution_count": 64,
   "id": "7a217bfe-d8f8-495c-8191-b9d7436c57c6",
   "metadata": {},
   "outputs": [
    {
     "data": {
      "text/plain": [
       "[2, 4, 5]"
      ]
     },
     "execution_count": 64,
     "metadata": {},
     "output_type": "execute_result"
    }
   ],
   "source": [
    "myList[2:]"
   ]
  },
  {
   "cell_type": "code",
   "execution_count": 65,
   "id": "62338e68-e973-4252-844a-6aca1b4abdcd",
   "metadata": {},
   "outputs": [
    {
     "data": {
      "text/plain": [
       "[1, 3, 2]"
      ]
     },
     "execution_count": 65,
     "metadata": {},
     "output_type": "execute_result"
    }
   ],
   "source": [
    "myList[:3]"
   ]
  },
  {
   "cell_type": "code",
   "execution_count": 74,
   "id": "76762e3f-966a-43ec-a12a-d2d1a5bfcfd6",
   "metadata": {},
   "outputs": [],
   "source": [
    "len(name); # semicolon not printing"
   ]
  },
  {
   "cell_type": "code",
   "execution_count": 67,
   "id": "4815748e-ea70-43db-9538-68255b499563",
   "metadata": {},
   "outputs": [
    {
     "data": {
      "text/plain": [
       "'This is python 3 learning course'"
      ]
     },
     "execution_count": 67,
     "metadata": {},
     "output_type": "execute_result"
    }
   ],
   "source": [
    "name"
   ]
  },
  {
   "cell_type": "code",
   "execution_count": 71,
   "id": "9b5ed1cc-2f43-4a05-9d10-45b388a995d9",
   "metadata": {},
   "outputs": [
    {
     "data": {
      "text/plain": [
       "5"
      ]
     },
     "execution_count": 71,
     "metadata": {},
     "output_type": "execute_result"
    }
   ],
   "source": [
    "len(myList)"
   ]
  },
  {
   "cell_type": "code",
   "execution_count": 69,
   "id": "6cbb2b0c-b08d-40c0-b4f0-05ee0cf17fd4",
   "metadata": {},
   "outputs": [
    {
     "data": {
      "text/plain": [
       "32"
      ]
     },
     "execution_count": 69,
     "metadata": {},
     "output_type": "execute_result"
    }
   ],
   "source": [
    "len(name)"
   ]
  },
  {
   "cell_type": "markdown",
   "id": "88ae5abe-1d6a-4a4c-9e77-450bab57369a",
   "metadata": {},
   "source": [
    "### Formating"
   ]
  },
  {
   "cell_type": "code",
   "execution_count": 77,
   "id": "6c6abc8b-5750-419c-be4c-19a054bbe29b",
   "metadata": {},
   "outputs": [
    {
     "data": {
      "text/plain": [
       "'Python course:5'"
      ]
     },
     "execution_count": 77,
     "metadata": {},
     "output_type": "execute_result"
    }
   ],
   "source": [
    "'Python course:' + str(5)"
   ]
  },
  {
   "cell_type": "code",
   "execution_count": 78,
   "id": "67f6dbf1-d633-4978-955a-ea40338e5a29",
   "metadata": {},
   "outputs": [
    {
     "data": {
      "text/plain": [
       "'python course:5'"
      ]
     },
     "execution_count": 78,
     "metadata": {},
     "output_type": "execute_result"
    }
   ],
   "source": [
    "f'python course:{5}'"
   ]
  },
  {
   "cell_type": "code",
   "execution_count": 79,
   "id": "cc7b441c-fbef-477c-b7dc-bb509bcfdb2a",
   "metadata": {},
   "outputs": [
    {
     "data": {
      "text/plain": [
       "'python course is 3 and it has ability to multiply 9'"
      ]
     },
     "execution_count": 79,
     "metadata": {},
     "output_type": "execute_result"
    }
   ],
   "source": [
    "f'python course is {3} and it has ability to multiply {3*3}'"
   ]
  },
  {
   "cell_type": "code",
   "execution_count": 80,
   "id": "81c1f545-090a-44ce-98e6-8c860bda27d8",
   "metadata": {},
   "outputs": [
    {
     "data": {
      "text/plain": [
       "'pi is: (math.pi:2f)'"
      ]
     },
     "execution_count": 80,
     "metadata": {},
     "output_type": "execute_result"
    }
   ],
   "source": [
    "f'pi is: (math.pi:2f)' "
   ]
  },
  {
   "cell_type": "code",
   "execution_count": 81,
   "id": "dfbbb335-b67d-4c6a-8154-4baad0b8ad8a",
   "metadata": {},
   "outputs": [
    {
     "data": {
      "text/plain": [
       "'pi is: 3.141593'"
      ]
     },
     "execution_count": 81,
     "metadata": {},
     "output_type": "execute_result"
    }
   ],
   "source": [
    "f'pi is: {math.pi:2f}' "
   ]
  },
  {
   "cell_type": "code",
   "execution_count": 83,
   "id": "35935dee-9e25-4284-9177-7f63a4850609",
   "metadata": {},
   "outputs": [
    {
     "data": {
      "text/plain": [
       "'pi is 3.141592653589793'"
      ]
     },
     "execution_count": 83,
     "metadata": {},
     "output_type": "execute_result"
    }
   ],
   "source": [
    "'pi is {}'.format(math.pi)"
   ]
  },
  {
   "cell_type": "markdown",
   "id": "84e87e86-85e1-4062-8bf1-c4c3ea723fab",
   "metadata": {},
   "source": [
    "### Multi line String"
   ]
  },
  {
   "cell_type": "code",
   "execution_count": 84,
   "id": "02834ae7-de24-4574-a639-ecbaa178fb41",
   "metadata": {},
   "outputs": [
    {
     "ename": "SyntaxError",
     "evalue": "unterminated string literal (detected at line 1) (2443719510.py, line 1)",
     "output_type": "error",
     "traceback": [
      "\u001b[0;36m  Cell \u001b[0;32mIn[84], line 1\u001b[0;36m\u001b[0m\n\u001b[0;31m    myString = 'test\u001b[0m\n\u001b[0m               ^\u001b[0m\n\u001b[0;31mSyntaxError\u001b[0m\u001b[0;31m:\u001b[0m unterminated string literal (detected at line 1)\n"
     ]
    }
   ],
   "source": [
    "myString = 'test\n",
    "adfa\n",
    "asdf'"
   ]
  },
  {
   "cell_type": "code",
   "execution_count": 90,
   "id": "c3b498c8-0f0c-4954-936e-6c72fe1e44b3",
   "metadata": {},
   "outputs": [],
   "source": [
    "myString = ''' this is a \n",
    "multi string  testing\n",
    "testing a multi line string \\'\\'\\''''"
   ]
  },
  {
   "cell_type": "code",
   "execution_count": 91,
   "id": "1c5a114c-14b2-4ac0-8c33-1a2236fbe7b5",
   "metadata": {},
   "outputs": [
    {
     "data": {
      "text/plain": [
       "\" this is a \\nmulti string  testing\\ntesting a multi line string '''\""
      ]
     },
     "execution_count": 91,
     "metadata": {},
     "output_type": "execute_result"
    }
   ],
   "source": [
    "myString"
   ]
  },
  {
   "cell_type": "code",
   "execution_count": 92,
   "id": "70007d54-883a-476d-858a-12831d9bf9b0",
   "metadata": {},
   "outputs": [
    {
     "name": "stdout",
     "output_type": "stream",
     "text": [
      " this is a \n",
      "multi string  testing\n",
      "testing a multi line string '''\n"
     ]
    }
   ],
   "source": [
    "print(myString)"
   ]
  },
  {
   "cell_type": "code",
   "execution_count": 93,
   "id": "9f555421-c94d-4f67-aa5b-9080a7109519",
   "metadata": {},
   "outputs": [
    {
     "data": {
      "text/plain": [
       "b'\\x00\\x00\\x00\\x00'"
      ]
     },
     "execution_count": 93,
     "metadata": {},
     "output_type": "execute_result"
    }
   ],
   "source": [
    "bytes(4)"
   ]
  },
  {
   "cell_type": "code",
   "execution_count": null,
   "id": "9a62017a-f298-4136-91b1-c65d76ec9270",
   "metadata": {},
   "outputs": [],
   "source": []
  }
 ],
 "metadata": {
  "kernelspec": {
   "display_name": "Python 3 (ipykernel)",
   "language": "python",
   "name": "python3"
  },
  "language_info": {
   "codemirror_mode": {
    "name": "ipython",
    "version": 3
   },
   "file_extension": ".py",
   "mimetype": "text/x-python",
   "name": "python",
   "nbconvert_exporter": "python",
   "pygments_lexer": "ipython3",
   "version": "3.11.7"
  }
 },
 "nbformat": 4,
 "nbformat_minor": 5
}
