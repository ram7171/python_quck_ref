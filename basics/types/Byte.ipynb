{
 "cells": [
  {
   "cell_type": "markdown",
   "id": "bbbff41f-be16-4a0f-93f1-911dcd089df3",
   "metadata": {},
   "source": [
    "# Bytes\n"
   ]
  },
  {
   "cell_type": "markdown",
   "id": "de6e5fbf-ac92-484c-b460-67a9a09d0fee",
   "metadata": {},
   "source": [
    "  🎯\n",
    " "
   ]
  },
  {
   "cell_type": "markdown",
   "id": "d0d22b4a-6411-4f77-bdf2-9d7dc2a0013e",
   "metadata": {},
   "source": [
    "😀"
   ]
  },
  {
   "cell_type": "code",
   "execution_count": 3,
   "id": "677d8fff-a97a-4302-bb0b-eca62ac93872",
   "metadata": {},
   "outputs": [
    {
     "data": {
      "text/plain": [
       "b'\\x00\\x00\\x00\\x00'"
      ]
     },
     "execution_count": 3,
     "metadata": {},
     "output_type": "execute_result"
    }
   ],
   "source": [
    "bytes(4)"
   ]
  },
  {
   "cell_type": "code",
   "execution_count": 6,
   "id": "b38c8139-c0c0-4213-bb48-5dedc902f39e",
   "metadata": {},
   "outputs": [
    {
     "data": {
      "text/plain": [
       "b'\\xf0\\x9f\\x98\\x80'"
      ]
     },
     "execution_count": 6,
     "metadata": {},
     "output_type": "execute_result"
    }
   ],
   "source": [
    "smileBytes = bytes('😀', 'utf-8')\n",
    "smileBytes"
   ]
  },
  {
   "cell_type": "code",
   "execution_count": 7,
   "id": "6f933f5f-decf-47db-ab2f-79d8524312ec",
   "metadata": {},
   "outputs": [
    {
     "data": {
      "text/plain": [
       "'😀'"
      ]
     },
     "execution_count": 7,
     "metadata": {},
     "output_type": "execute_result"
    }
   ],
   "source": [
    "smileBytes.decode('utf-8')"
   ]
  },
  {
   "cell_type": "code",
   "execution_count": 2,
   "id": "d97461b4-0517-4cfd-868a-22a02e3154ae",
   "metadata": {},
   "outputs": [],
   "source": [
    "smileBytes = bytearray('😀', 'utf-8')"
   ]
  },
  {
   "cell_type": "code",
   "execution_count": 3,
   "id": "1b6df09a-a2a4-4936-80d4-6102d08a9864",
   "metadata": {},
   "outputs": [
    {
     "data": {
      "text/plain": [
       "bytearray(b'\\xf0\\x9f\\x98\\x80')"
      ]
     },
     "execution_count": 3,
     "metadata": {},
     "output_type": "execute_result"
    }
   ],
   "source": [
    "smileBytes"
   ]
  },
  {
   "cell_type": "code",
   "execution_count": 4,
   "id": "81fdddcb-448f-4f2e-a5fc-4426302f6386",
   "metadata": {},
   "outputs": [],
   "source": [
    "smileBytes[3] = int('98', 16)\n"
   ]
  },
  {
   "cell_type": "code",
   "execution_count": 5,
   "id": "79a11e64-1c1b-4c4a-ad28-bf74dae1ce4d",
   "metadata": {},
   "outputs": [
    {
     "data": {
      "text/plain": [
       "bytearray(b'\\xf0\\x9f\\x98\\x98')"
      ]
     },
     "execution_count": 5,
     "metadata": {},
     "output_type": "execute_result"
    }
   ],
   "source": [
    "smileBytes"
   ]
  },
  {
   "cell_type": "code",
   "execution_count": 6,
   "id": "3793956f-2fd7-4d8b-86f1-06c9f3070daa",
   "metadata": {},
   "outputs": [
    {
     "data": {
      "text/plain": [
       "'😘'"
      ]
     },
     "execution_count": 6,
     "metadata": {},
     "output_type": "execute_result"
    }
   ],
   "source": [
    "smileBytes.decode('utf-8')"
   ]
  },
  {
   "cell_type": "code",
   "execution_count": 7,
   "id": "54b418b9-f581-4246-a42b-03a002eb4bfd",
   "metadata": {},
   "outputs": [
    {
     "data": {
      "text/plain": [
       "'鿰题'"
      ]
     },
     "execution_count": 7,
     "metadata": {},
     "output_type": "execute_result"
    }
   ],
   "source": [
    "smileBytes.decode('utf-16')"
   ]
  },
  {
   "cell_type": "code",
   "execution_count": 8,
   "id": "68a30e0e-d54c-4207-89bb-3b08d813ab0b",
   "metadata": {},
   "outputs": [
    {
     "data": {
      "text/plain": [
       "5"
      ]
     },
     "execution_count": 8,
     "metadata": {},
     "output_type": "execute_result"
    }
   ],
   "source": [
    "int('101',2)"
   ]
  },
  {
   "cell_type": "code",
   "execution_count": 9,
   "id": "497672e2-3ebe-4ce0-8c4a-7024778389f9",
   "metadata": {},
   "outputs": [
    {
     "data": {
      "text/plain": [
       "b'\\x00\\x00\\x00\\x00'"
      ]
     },
     "execution_count": 9,
     "metadata": {},
     "output_type": "execute_result"
    }
   ],
   "source": [
    "bytes(4)"
   ]
  },
  {
   "cell_type": "code",
   "execution_count": null,
   "id": "38494e4a-cbc1-4f24-9089-d7c46fb3133f",
   "metadata": {},
   "outputs": [],
   "source": []
  }
 ],
 "metadata": {
  "kernelspec": {
   "display_name": "Python 3 (ipykernel)",
   "language": "python",
   "name": "python3"
  },
  "language_info": {
   "codemirror_mode": {
    "name": "ipython",
    "version": 3
   },
   "file_extension": ".py",
   "mimetype": "text/x-python",
   "name": "python",
   "nbconvert_exporter": "python",
   "pygments_lexer": "ipython3",
   "version": "3.11.7"
  }
 },
 "nbformat": 4,
 "nbformat_minor": 5
}
