{
 "cells": [
  {
   "cell_type": "markdown",
   "id": "4c2f120b-816a-4dcc-96e7-697188278ad0",
   "metadata": {},
   "source": [
    "# List Comprehension"
   ]
  },
  {
   "cell_type": "code",
   "execution_count": 1,
   "id": "e78ca3e8-0314-4cd5-adf3-2955de22bbb5",
   "metadata": {},
   "outputs": [
    {
     "data": {
      "text/plain": [
       "[2, 4, 6, 8, 10, 12]"
      ]
     },
     "execution_count": 1,
     "metadata": {},
     "output_type": "execute_result"
    }
   ],
   "source": [
    " myList = [1,2,3,4,5,6]\n",
    "[2*item for item in myList]"
   ]
  },
  {
   "cell_type": "markdown",
   "id": "b4df9adf-288d-4fe9-b474-24502628e862",
   "metadata": {},
   "source": [
    "#### List Comprehensions with filter"
   ]
  },
  {
   "cell_type": "code",
   "execution_count": 3,
   "id": "7be0f0fc-ea7c-4b34-b541-ad306a72db38",
   "metadata": {},
   "outputs": [
    {
     "data": {
      "text/plain": [
       "[0, 10, 20, 30, 40, 50, 60, 70, 80, 90]"
      ]
     },
     "execution_count": 3,
     "metadata": {},
     "output_type": "execute_result"
    }
   ],
   "source": [
    "myList = list(range(100))\n",
    "filteredList = [item for item in myList if item % 10 == 0]\n",
    "filteredList"
   ]
  },
  {
   "cell_type": "markdown",
   "id": "78b0699d-3ca9-4c28-9174-ea2e5673d1f9",
   "metadata": {},
   "source": [
    "#### List comprehension with function"
   ]
  },
  {
   "cell_type": "code",
   "execution_count": 8,
   "id": "21365427-9eec-4a9e-9aef-add3aa881bdc",
   "metadata": {},
   "outputs": [
    {
     "data": {
      "text/plain": [
       "['This is list comprehension for LIST', ' and DICTIONARY']"
      ]
     },
     "execution_count": 8,
     "metadata": {},
     "output_type": "execute_result"
    }
   ],
   "source": [
    "myString = 'This is list comprehension for LIST, and DICTIONARY'\n",
    "myString.split(',')"
   ]
  },
  {
   "cell_type": "code",
   "execution_count": 9,
   "id": "8f644e08-0fba-4f5b-9b21-d1dd39e16dbb",
   "metadata": {},
   "outputs": [
    {
     "data": {
      "text/plain": [
       "'This is list comprehension for LIST'"
      ]
     },
     "execution_count": 9,
     "metadata": {},
     "output_type": "execute_result"
    }
   ],
   "source": [
    "myString.split(',')[0]"
   ]
  },
  {
   "cell_type": "code",
   "execution_count": 10,
   "id": "1fa3d8bb-946c-4195-86f5-da8fb8a2b824",
   "metadata": {},
   "outputs": [
    {
     "data": {
      "text/plain": [
       "['This', 'is', 'list', 'comprehension', 'for', 'LIST,', 'and', 'DICTIONARY']"
      ]
     },
     "execution_count": 10,
     "metadata": {},
     "output_type": "execute_result"
    }
   ],
   "source": [
    "myString.split()"
   ]
  },
  {
   "cell_type": "code",
   "execution_count": 11,
   "id": "44466c18-e68b-45c6-9e58-16ead5b93b24",
   "metadata": {},
   "outputs": [
    {
     "data": {
      "text/plain": [
       "['this', 'is', 'list', 'comprehension', 'for', 'list', 'and', 'dictionary']"
      ]
     },
     "execution_count": 11,
     "metadata": {},
     "output_type": "execute_result"
    }
   ],
   "source": [
    "def cleanWord(word):\n",
    "    return word.replace(',','').lower();\n",
    "[cleanWord(word) for word in myString.split()]"
   ]
  },
  {
   "cell_type": "markdown",
   "id": "2a0a243b-499e-4f57-b678-9bad1fc682a5",
   "metadata": {},
   "source": [
    "#### Nested list comprehension"
   ]
  },
  {
   "cell_type": "code",
   "execution_count": 12,
   "id": "fc9a8940-daf5-41ea-b7ec-4feba3b2b8ae",
   "metadata": {},
   "outputs": [
    {
     "data": {
      "text/plain": [
       "[['this', 'is', 'list', 'comprehension', 'for', 'list'], ['and', 'dictionary']]"
      ]
     },
     "execution_count": 12,
     "metadata": {},
     "output_type": "execute_result"
    }
   ],
   "source": [
    "[[cleanWord(word) for word in sentence.split()] for sentence in myString.split(',')]"
   ]
  },
  {
   "cell_type": "markdown",
   "id": "b30a03af-25c2-405c-b961-1f4648f48071",
   "metadata": {},
   "source": [
    "# Dictionary Comprehension"
   ]
  },
  {
   "cell_type": "code",
   "execution_count": 20,
   "id": "fadd92b7-97e1-47c1-b776-33b1add5ea9f",
   "metadata": {},
   "outputs": [
    {
     "data": {
      "text/plain": [
       "{'a': 'aardvark', 'b': 'bear', 'c': 'cat', 'd': 'dog'}"
      ]
     },
     "execution_count": 20,
     "metadata": {},
     "output_type": "execute_result"
    }
   ],
   "source": [
    "animalList = [('a','aardvark'), ('b', 'bear'), ('c', 'cat'), ('d','dog')]\n",
    "animalList\n",
    "animals = {item[0]: item[1] for item in animalList}\n",
    "animals"
   ]
  },
  {
   "cell_type": "code",
   "execution_count": 21,
   "id": "6c2a29f1-400a-44f3-86b7-89f1f4c86529",
   "metadata": {},
   "outputs": [
    {
     "data": {
      "text/plain": [
       "{'a': 'aardvark', 'b': 'bear', 'c': 'cat', 'd': 'dog'}"
      ]
     },
     "execution_count": 21,
     "metadata": {},
     "output_type": "execute_result"
    }
   ],
   "source": [
    "animals = {key: value for key,value in animalList}\n",
    "animals"
   ]
  },
  {
   "cell_type": "code",
   "execution_count": 22,
   "id": "e33af662-5748-4679-b94e-6ecda48e17cd",
   "metadata": {},
   "outputs": [
    {
     "data": {
      "text/plain": [
       "dict_items([('a', 'aardvark'), ('b', 'bear'), ('c', 'cat'), ('d', 'dog')])"
      ]
     },
     "execution_count": 22,
     "metadata": {},
     "output_type": "execute_result"
    }
   ],
   "source": [
    "animals.items()"
   ]
  },
  {
   "cell_type": "code",
   "execution_count": 23,
   "id": "9831db35-c2a0-46fc-a74f-ba929b35284a",
   "metadata": {},
   "outputs": [
    {
     "data": {
      "text/plain": [
       "[('a', 'aardvark'), ('b', 'bear'), ('c', 'cat'), ('d', 'dog')]"
      ]
     },
     "execution_count": 23,
     "metadata": {},
     "output_type": "execute_result"
    }
   ],
   "source": [
    "list(animals.items())"
   ]
  },
  {
   "cell_type": "code",
   "execution_count": 25,
   "id": "2f7293f7-a6de-46e7-b6c6-d480ca7e5274",
   "metadata": {},
   "outputs": [
    {
     "data": {
      "text/plain": [
       "[{'letter': 'a', 'name': 'aardvark'},\n",
       " {'letter': 'b', 'name': 'bear'},\n",
       " {'letter': 'c', 'name': 'cat'},\n",
       " {'letter': 'd', 'name': 'dog'}]"
      ]
     },
     "execution_count": 25,
     "metadata": {},
     "output_type": "execute_result"
    }
   ],
   "source": [
    "[{'letter': key, 'name': value} for key, value in animals.items()]"
   ]
  },
  {
   "cell_type": "code",
   "execution_count": null,
   "id": "832ffd84-c8c6-44f2-b355-8e1caeda95f6",
   "metadata": {},
   "outputs": [],
   "source": []
  }
 ],
 "metadata": {
  "kernelspec": {
   "display_name": "Python 3 (ipykernel)",
   "language": "python",
   "name": "python3"
  },
  "language_info": {
   "codemirror_mode": {
    "name": "ipython",
    "version": 3
   },
   "file_extension": ".py",
   "mimetype": "text/x-python",
   "name": "python",
   "nbconvert_exporter": "python",
   "pygments_lexer": "ipython3",
   "version": "3.11.7"
  }
 },
 "nbformat": 4,
 "nbformat_minor": 5
}
