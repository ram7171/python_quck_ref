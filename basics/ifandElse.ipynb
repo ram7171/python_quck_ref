{
 "cells": [
  {
   "cell_type": "markdown",
   "id": "e1c50b9b-5368-4150-b142-6b76e0c647d2",
   "metadata": {},
   "source": [
    "# if statement with \"FizzBuzz\""
   ]
  },
  {
   "cell_type": "code",
   "execution_count": 5,
   "id": "90165ce7-29ba-4d8e-9c59-31e8db31f69b",
   "metadata": {},
   "outputs": [
    {
     "name": "stdout",
     "output_type": "stream",
     "text": [
      "Buzz\n",
      "Fizz\n",
      "Buzz\n",
      "Buzz\n",
      "Fizz\n",
      "Buzz\n",
      "Fizz\n",
      "Buzz\n",
      "Fizz\n",
      "Buzz\n",
      "Buzz\n",
      "Fizz\n",
      "Buzz\n"
     ]
    }
   ],
   "source": [
    "for n in range(1,30):\n",
    "    if n % 15 == 0:\n",
    "        print('Fizz');\n",
    "    else:\n",
    "        if n % 3 == 0:\n",
    "            print('Buzz');\n",
    "        else:\n",
    "            if n % 5 == 0:\n",
    "                print('Fizz');\n",
    "            "
   ]
  },
  {
   "cell_type": "markdown",
   "id": "598a66c9-0cf3-43af-b8b3-d913113578b6",
   "metadata": {},
   "source": [
    "## elif statement"
   ]
  },
  {
   "cell_type": "code",
   "execution_count": 10,
   "id": "21f72656-960c-48b5-bb71-c2679c377b8c",
   "metadata": {},
   "outputs": [
    {
     "name": "stdout",
     "output_type": "stream",
     "text": [
      "Buzz\n",
      "Fizz\n",
      "Buzz\n",
      "Buzz\n",
      "Fizz\n",
      "Buzz\n"
     ]
    }
   ],
   "source": [
    "for n in range(1,16):\n",
    "    if n % 15 == 0:\n",
    "        print('FizzBuzz');\n",
    "    elif n % 3 == 0:\n",
    "       print('Buzz');\n",
    "    elif n % 5 == 0:\n",
    "      print('Fizz');"
   ]
  },
  {
   "cell_type": "markdown",
   "id": "be79e895-5d9b-4c5e-8d11-e00ebe9f191a",
   "metadata": {},
   "source": [
    "## single Line if statement"
   ]
  },
  {
   "cell_type": "code",
   "execution_count": 14,
   "id": "7a666e7a-6d97-4a9e-bdca-994ce3110f1f",
   "metadata": {},
   "outputs": [
    {
     "name": "stdout",
     "output_type": "stream",
     "text": [
      "Fizz\n"
     ]
    }
   ],
   "source": [
    "n = 3\n",
    "print('Fizz' if n% 3 == 0 else n)"
   ]
  },
  {
   "cell_type": "code",
   "execution_count": 15,
   "id": "5dc0fde9-2a0f-463d-a634-ba7e6d847585",
   "metadata": {},
   "outputs": [
    {
     "data": {
      "text/plain": [
       "'Fizz'"
      ]
     },
     "execution_count": 15,
     "metadata": {},
     "output_type": "execute_result"
    }
   ],
   "source": [
    "FizzBuzz = 'Fizz' if n% 3 == 0 else n\n",
    "FizzBuzz"
   ]
  },
  {
   "cell_type": "code",
   "execution_count": 17,
   "id": "c05466b9-80e8-4e45-a7c1-8458a76742da",
   "metadata": {},
   "outputs": [
    {
     "data": {
      "text/plain": [
       "'Buzz'"
      ]
     },
     "execution_count": 17,
     "metadata": {},
     "output_type": "execute_result"
    }
   ],
   "source": [
    "n = 3;\n",
    "'Fizz' if n % 5 == 0 else 'Buzz' if n % 3 == 0 else n"
   ]
  },
  {
   "cell_type": "code",
   "execution_count": 18,
   "id": "e270ed2b-5c4f-4d60-9abc-a72a94255a64",
   "metadata": {},
   "outputs": [
    {
     "data": {
      "text/plain": [
       "'Fizz'"
      ]
     },
     "execution_count": 18,
     "metadata": {},
     "output_type": "execute_result"
    }
   ],
   "source": [
    "n = 5;\n",
    "'Fizz' if n % 5 == 0 else 'Buzz' if n % 3 == 0 else n"
   ]
  },
  {
   "cell_type": "code",
   "execution_count": 19,
   "id": "38529d44-3c4e-41c5-928d-75c37bb167cb",
   "metadata": {},
   "outputs": [
    {
     "data": {
      "text/plain": [
       "2"
      ]
     },
     "execution_count": 19,
     "metadata": {},
     "output_type": "execute_result"
    }
   ],
   "source": [
    "n = 2;\n",
    "'Fizz' if n % 5 == 0 else 'Buzz' if n % 3 == 0 else n"
   ]
  },
  {
   "cell_type": "code",
   "execution_count": 23,
   "id": "b8998da1-d70b-47ac-a6d7-d70e62860495",
   "metadata": {},
   "outputs": [
    {
     "data": {
      "text/plain": [
       "'FizzBuzz'"
      ]
     },
     "execution_count": 23,
     "metadata": {},
     "output_type": "execute_result"
    }
   ],
   "source": [
    "n =15\n",
    "'FizzBuzz' if n % 5 == 0 else 'Buzz' if n % 3 == 0 else 'FizzBuzz' if n % 15 == 0 else n"
   ]
  },
  {
   "cell_type": "code",
   "execution_count": 24,
   "id": "9687417b-104e-45f6-b169-a9cf09a8cf56",
   "metadata": {},
   "outputs": [
    {
     "data": {
      "text/plain": [
       "[1,\n",
       " 2,\n",
       " 'Buzz',\n",
       " 4,\n",
       " 'FizzBuzz',\n",
       " 'Buzz',\n",
       " 7,\n",
       " 8,\n",
       " 'Buzz',\n",
       " 'FizzBuzz',\n",
       " 11,\n",
       " 'Buzz',\n",
       " 13,\n",
       " 14,\n",
       " 'FizzBuzz',\n",
       " 16,\n",
       " 17,\n",
       " 'Buzz',\n",
       " 19,\n",
       " 'FizzBuzz',\n",
       " 'Buzz',\n",
       " 22,\n",
       " 23,\n",
       " 'Buzz',\n",
       " 'FizzBuzz',\n",
       " 26,\n",
       " 'Buzz',\n",
       " 28,\n",
       " 29]"
      ]
     },
     "execution_count": 24,
     "metadata": {},
     "output_type": "execute_result"
    }
   ],
   "source": [
    "['FizzBuzz' if n % 5 == 0 else 'Buzz' if n % 3 == 0 else 'FizzBuzz' if n % 15 == 0 else n for n in range(1,30)]"
   ]
  },
  {
   "cell_type": "code",
   "execution_count": null,
   "id": "98b7ad25-dfcb-4636-b94c-4d118a367c26",
   "metadata": {},
   "outputs": [],
   "source": []
  }
 ],
 "metadata": {
  "kernelspec": {
   "display_name": "Python 3 (ipykernel)",
   "language": "python",
   "name": "python3"
  },
  "language_info": {
   "codemirror_mode": {
    "name": "ipython",
    "version": 3
   },
   "file_extension": ".py",
   "mimetype": "text/x-python",
   "name": "python",
   "nbconvert_exporter": "python",
   "pygments_lexer": "ipython3",
   "version": "3.11.7"
  }
 },
 "nbformat": 4,
 "nbformat_minor": 5
}
