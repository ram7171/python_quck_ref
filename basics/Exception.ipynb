{
 "cells": [
  {
   "cell_type": "markdown",
   "id": "bcbe4881-a5be-4285-b4c5-4c3d35b75ebd",
   "metadata": {},
   "source": [
    "# Error and Exception"
   ]
  },
  {
   "cell_type": "code",
   "execution_count": 1,
   "id": "66ba4a9d-6db4-4847-b187-f024f3fedffe",
   "metadata": {},
   "outputs": [
    {
     "ename": "ZeroDivisionError",
     "evalue": "division by zero",
     "output_type": "error",
     "traceback": [
      "\u001b[0;31m---------------------------------------------------------------------------\u001b[0m",
      "\u001b[0;31mZeroDivisionError\u001b[0m                         Traceback (most recent call last)",
      "Cell \u001b[0;32mIn[1], line 7\u001b[0m\n\u001b[1;32m      4\u001b[0m \u001b[38;5;28;01mdef\u001b[39;00m \u001b[38;5;21mcallCauseError\u001b[39m():\n\u001b[1;32m      5\u001b[0m     \u001b[38;5;28;01mreturn\u001b[39;00m causeError();\n\u001b[0;32m----> 7\u001b[0m callCauseError()\n",
      "Cell \u001b[0;32mIn[1], line 5\u001b[0m, in \u001b[0;36mcallCauseError\u001b[0;34m()\u001b[0m\n\u001b[1;32m      4\u001b[0m \u001b[38;5;28;01mdef\u001b[39;00m \u001b[38;5;21mcallCauseError\u001b[39m():\n\u001b[0;32m----> 5\u001b[0m     \u001b[38;5;28;01mreturn\u001b[39;00m causeError()\n",
      "Cell \u001b[0;32mIn[1], line 2\u001b[0m, in \u001b[0;36mcauseError\u001b[0;34m()\u001b[0m\n\u001b[1;32m      1\u001b[0m \u001b[38;5;28;01mdef\u001b[39;00m \u001b[38;5;21mcauseError\u001b[39m():\n\u001b[0;32m----> 2\u001b[0m     \u001b[38;5;28;01mreturn\u001b[39;00m \u001b[38;5;241m1\u001b[39m\u001b[38;5;241m/\u001b[39m\u001b[38;5;241m0\u001b[39m\n",
      "\u001b[0;31mZeroDivisionError\u001b[0m: division by zero"
     ]
    }
   ],
   "source": [
    "def causeError():\n",
    "    return 1/0\n",
    "\n",
    "def callCauseError():\n",
    "    return causeError();\n",
    "\n",
    "callCauseError()"
   ]
  },
  {
   "cell_type": "markdown",
   "id": "e6e88ef6-f7fb-404b-bc6d-abef986f177e",
   "metadata": {},
   "source": [
    "##### above this is call trace "
   ]
  },
  {
   "cell_type": "markdown",
   "id": "c9b4708b-b683-4e79-a61b-c5ffe6837e7f",
   "metadata": {},
   "source": [
    "## Try /Except"
   ]
  },
  {
   "cell_type": "code",
   "execution_count": 4,
   "id": "071ac2f5-bc46-4ddb-9c9d-101d0f4bf3c0",
   "metadata": {},
   "outputs": [
    {
     "name": "stdout",
     "output_type": "stream",
     "text": [
      "<class 'ZeroDivisionError'>\n"
     ]
    }
   ],
   "source": [
    "try:\n",
    "    1/0\n",
    "except Exception as e:\n",
    "    print(type(e))"
   ]
  },
  {
   "cell_type": "code",
   "execution_count": 6,
   "id": "be051267-dc8c-4791-9b7d-159fe0183bc2",
   "metadata": {},
   "outputs": [
    {
     "name": "stdout",
     "output_type": "stream",
     "text": [
      "division by zero\n"
     ]
    }
   ],
   "source": [
    "try:\n",
    "    1/0\n",
    "except Exception as e:\n",
    "    print(e)"
   ]
  },
  {
   "cell_type": "code",
   "execution_count": 9,
   "id": "9cce78ad-65ca-4259-af3a-e1cb4279279c",
   "metadata": {},
   "outputs": [
    {
     "data": {
      "text/plain": [
       "ZeroDivisionError('division by zero')"
      ]
     },
     "execution_count": 9,
     "metadata": {},
     "output_type": "execute_result"
    }
   ],
   "source": [
    "def causeError():\n",
    "    try:\n",
    "        1/0\n",
    "    except Exception as e:\n",
    "        return e\n",
    "\n",
    "causeError()"
   ]
  },
  {
   "cell_type": "markdown",
   "id": "c33a5f27-aceb-4746-b204-6d00026f3dc8",
   "metadata": {},
   "source": [
    "## Finally"
   ]
  },
  {
   "cell_type": "code",
   "execution_count": 10,
   "id": "49d0f16c-623a-43ee-bd13-0d5a339d3820",
   "metadata": {},
   "outputs": [
    {
     "name": "stdout",
     "output_type": "stream",
     "text": [
      "there is some exception\n",
      "always execute this finally block\n"
     ]
    }
   ],
   "source": [
    "def causeError():\n",
    "    try:\n",
    "        1/0\n",
    "    except Exception:\n",
    "        print('there is some exception')\n",
    "    finally:\n",
    "        print('always execute this finally block')\n",
    "        \n",
    "causeError()"
   ]
  },
  {
   "cell_type": "markdown",
   "id": "947dfb43-cf3d-4cd2-8586-a59566cd6fc1",
   "metadata": {},
   "source": [
    "## Catching Exception by Type"
   ]
  },
  {
   "cell_type": "code",
   "execution_count": 13,
   "id": "c9f04049-3c5b-40e8-b07f-ff7bb7a8525f",
   "metadata": {},
   "outputs": [
    {
     "name": "stdout",
     "output_type": "stream",
     "text": [
      "Zero division error occurred\n",
      "always execute this finally block\n"
     ]
    }
   ],
   "source": [
    "def causeError():\n",
    "    try:\n",
    "        1/0\n",
    "    except ZeroDivisionError:\n",
    "        print('Zero division error occurred')\n",
    "    except Exception:\n",
    "        print('there is some exception')\n",
    "    finally:\n",
    "        print('always execute this finally block')\n",
    "        \n",
    "causeError()"
   ]
  },
  {
   "cell_type": "code",
   "execution_count": 16,
   "id": "3e197c73-80ab-48c4-a8c5-07fbe69ce6bf",
   "metadata": {},
   "outputs": [
    {
     "name": "stdout",
     "output_type": "stream",
     "text": [
      "there is some exception\n",
      "always execute this finally block\n"
     ]
    }
   ],
   "source": [
    "def causeError():\n",
    "    try:\n",
    "        1/1 + 'a'\n",
    "    except Exception:\n",
    "        print('there is some exception')\n",
    "    except Exception:\n",
    "        print('there is some exception')\n",
    "    except TypeError:\n",
    "        print('Type error');\n",
    "    except ZeroDivisionError:\n",
    "        print('Zero division error occurred')\n",
    "    except Exception:\n",
    "        print('there is some exception')\n",
    "    finally:\n",
    "        print('always execute this finally block')\n",
    "        \n",
    "causeError()"
   ]
  },
  {
   "cell_type": "markdown",
   "id": "4955e045-a572-48f2-abae-8dd47ab788f4",
   "metadata": {},
   "source": [
    "## Custom Exception"
   ]
  },
  {
   "cell_type": "code",
   "execution_count": 32,
   "id": "809fd101-d589-47e5-94c5-77629c56e19a",
   "metadata": {},
   "outputs": [
    {
     "name": "stdout",
     "output_type": "stream",
     "text": [
      "<class 'function'>\n",
      "Zero division error occurred\n"
     ]
    }
   ],
   "source": [
    "def handleException(func1):\n",
    "    def wrapper(*args):\n",
    "        try:\n",
    "            print(type(func1))\n",
    "            func1() # argument and method name should be same\n",
    "        except TypeError:\n",
    "            print('Type error');\n",
    "        except ZeroDivisionError:\n",
    "            print('Zero division error occurred')\n",
    "        except Exception:\n",
    "            print('there is some exception')\n",
    "    return wrapper\n",
    "\n",
    "@handleException\n",
    "def causeError():\n",
    "    return 1/0\n",
    "\n",
    "causeError()"
   ]
  },
  {
   "cell_type": "markdown",
   "id": "7804fd58-928d-4aaa-a8ab-421251665a9b",
   "metadata": {},
   "source": [
    "## Raising Exception"
   ]
  },
  {
   "cell_type": "code",
   "execution_count": 36,
   "id": "09846c41-5b0b-4494-983f-e2b398371e23",
   "metadata": {},
   "outputs": [
    {
     "name": "stdout",
     "output_type": "stream",
     "text": [
      "<class 'function'>\n",
      "Type error\n"
     ]
    }
   ],
   "source": [
    "@handleException\n",
    "def raiseError(n):\n",
    "    if n == 0:\n",
    "        raise Exception()\n",
    "    print(n)\n",
    "\n",
    "raiseError(0)"
   ]
  },
  {
   "cell_type": "markdown",
   "id": "0caa6b6e-55ce-4921-ad0a-01240695eaa8",
   "metadata": {},
   "source": [
    "# Custom Exception"
   ]
  },
  {
   "cell_type": "code",
   "execution_count": 38,
   "id": "a2fc6bc8-081a-41ee-9259-13cbb052812a",
   "metadata": {},
   "outputs": [
    {
     "ename": "CustomException",
     "evalue": "you called the cuaseError function",
     "output_type": "error",
     "traceback": [
      "\u001b[0;31m---------------------------------------------------------------------------\u001b[0m",
      "\u001b[0;31mCustomException\u001b[0m                           Traceback (most recent call last)",
      "Cell \u001b[0;32mIn[38], line 7\u001b[0m\n\u001b[1;32m      4\u001b[0m \u001b[38;5;28;01mdef\u001b[39;00m \u001b[38;5;21mcauseError\u001b[39m():\n\u001b[1;32m      5\u001b[0m     \u001b[38;5;28;01mraise\u001b[39;00m CustomException(\u001b[38;5;124m'\u001b[39m\u001b[38;5;124myou called the cuaseError function\u001b[39m\u001b[38;5;124m'\u001b[39m);\n\u001b[0;32m----> 7\u001b[0m causeError()\n",
      "Cell \u001b[0;32mIn[38], line 5\u001b[0m, in \u001b[0;36mcauseError\u001b[0;34m()\u001b[0m\n\u001b[1;32m      4\u001b[0m \u001b[38;5;28;01mdef\u001b[39;00m \u001b[38;5;21mcauseError\u001b[39m():\n\u001b[0;32m----> 5\u001b[0m     \u001b[38;5;28;01mraise\u001b[39;00m CustomException(\u001b[38;5;124m'\u001b[39m\u001b[38;5;124myou called the cuaseError function\u001b[39m\u001b[38;5;124m'\u001b[39m)\n",
      "\u001b[0;31mCustomException\u001b[0m: you called the cuaseError function"
     ]
    }
   ],
   "source": [
    "class CustomException(Exception):\n",
    "    pass\n",
    "\n",
    "def causeError():\n",
    "    raise CustomException('you called the cuaseError function');\n",
    "\n",
    "causeError()"
   ]
  },
  {
   "cell_type": "markdown",
   "id": "e0b36c22-9023-4778-ba48-44593a90621a",
   "metadata": {},
   "source": [
    "### Adding attribute"
   ]
  },
  {
   "cell_type": "code",
   "execution_count": 43,
   "id": "6b6d0237-da3a-47df-9e47-a1f32d493a1a",
   "metadata": {},
   "outputs": [
    {
     "ename": "ServerError",
     "evalue": "Status code: 500 and message Ther server has an error",
     "output_type": "error",
     "traceback": [
      "\u001b[0;31m---------------------------------------------------------------------------\u001b[0m",
      "\u001b[0;31mServerError\u001b[0m                               Traceback (most recent call last)",
      "Cell \u001b[0;32mIn[43], line 18\u001b[0m\n\u001b[1;32m     15\u001b[0m \u001b[38;5;28;01mdef\u001b[39;00m \u001b[38;5;21mraiseServerError\u001b[39m():\n\u001b[1;32m     16\u001b[0m     \u001b[38;5;28;01mraise\u001b[39;00m ServerError()\n\u001b[0;32m---> 18\u001b[0m raiseServerError()\n",
      "Cell \u001b[0;32mIn[43], line 16\u001b[0m, in \u001b[0;36mraiseServerError\u001b[0;34m()\u001b[0m\n\u001b[1;32m     15\u001b[0m \u001b[38;5;28;01mdef\u001b[39;00m \u001b[38;5;21mraiseServerError\u001b[39m():\n\u001b[0;32m---> 16\u001b[0m     \u001b[38;5;28;01mraise\u001b[39;00m ServerError()\n",
      "\u001b[0;31mServerError\u001b[0m: Status code: 500 and message Ther server has an error"
     ]
    }
   ],
   "source": [
    "class HttpException(Exception):\n",
    "    statusCode = None\n",
    "    message = None\n",
    "    def __init__(self):\n",
    "        super().__init__(f'Status code: {self.statusCode} and message {self.message}');\n",
    "\n",
    "class NotFound(HttpException):\n",
    "    statusCode = 404\n",
    "    message = 'resource not found'\n",
    "\n",
    "class ServerError(HttpException):\n",
    "    statusCode = 500\n",
    "    message = 'Ther server has an error'\n",
    "\n",
    "def raiseServerError():\n",
    "    raise ServerError()\n",
    "\n",
    "raiseServerError()"
   ]
  },
  {
   "cell_type": "code",
   "execution_count": null,
   "id": "d8262a97-3b3b-424b-ac83-100694c5fc77",
   "metadata": {},
   "outputs": [],
   "source": []
  }
 ],
 "metadata": {
  "kernelspec": {
   "display_name": "Python 3 (ipykernel)",
   "language": "python",
   "name": "python3"
  },
  "language_info": {
   "codemirror_mode": {
    "name": "ipython",
    "version": 3
   },
   "file_extension": ".py",
   "mimetype": "text/x-python",
   "name": "python",
   "nbconvert_exporter": "python",
   "pygments_lexer": "ipython3",
   "version": "3.11.7"
  }
 },
 "nbformat": 4,
 "nbformat_minor": 5
}
