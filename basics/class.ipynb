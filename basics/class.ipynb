{
 "cells": [
  {
   "cell_type": "markdown",
   "id": "b3901a9f-c20f-4aef-afeb-0b33b7ef0850",
   "metadata": {},
   "source": [
    "# Class"
   ]
  },
  {
   "cell_type": "markdown",
   "id": "0ed50212-b3d1-4844-9185-ab75519b596a",
   "metadata": {},
   "source": [
    "### Instance Attribute"
   ]
  },
  {
   "cell_type": "code",
   "execution_count": 3,
   "id": "34db0cbd-96eb-4b5a-9366-9965c15bd6ca",
   "metadata": {},
   "outputs": [
    {
     "name": "stdout",
     "output_type": "stream",
     "text": [
      "Rolex-4\n"
     ]
    }
   ],
   "source": [
    "class Dog:\n",
    "    def __init__(self, name):\n",
    "        self.name = name\n",
    "        self.leg = 4\n",
    "    def speak(self):\n",
    "        print(self.name + 'says: Barks!');\n",
    "\n",
    "myDog = Dog('Rolex')\n",
    "print(myDog.name + '-' + str(myDog.leg))"
   ]
  },
  {
   "cell_type": "markdown",
   "id": "0c37c645-01a2-4dba-869e-0fe2eb3a30b7",
   "metadata": {},
   "source": [
    "### Static variable"
   ]
  },
  {
   "cell_type": "code",
   "execution_count": 7,
   "id": "b707319d-c578-42ab-af66-94d7371a4ee3",
   "metadata": {},
   "outputs": [
    {
     "name": "stdout",
     "output_type": "stream",
     "text": [
      "Rolex\n",
      "4\n"
     ]
    }
   ],
   "source": [
    "class Dog:\n",
    "    leg = 4\n",
    "    def __init__(self, name):\n",
    "        self.name = name\n",
    "        # self.leg = 4\n",
    "    def speak(self):\n",
    "        print(self.name + 'says: Barks!');\n",
    "\n",
    "myDog = Dog('Rolex')\n",
    "print(myDog.name)\n",
    "print(Dog.leg) # static variable"
   ]
  },
  {
   "cell_type": "code",
   "execution_count": 1,
   "id": "4a69e911-f42b-440c-b816-495fcae1c0ac",
   "metadata": {},
   "outputs": [
    {
     "name": "stdout",
     "output_type": "stream",
     "text": [
      "Rolex\n",
      "4\n",
      "4\n"
     ]
    }
   ],
   "source": [
    "class Dog:\n",
    "    _leg = 4\n",
    "    def __init__(self, name):\n",
    "        self.name = name\n",
    "        # self.leg = 4\n",
    "    def getLegs(self):\n",
    "        return self._leg\n",
    "        \n",
    "    def speak(self):\n",
    "        print(self.name + 'says: Barks!');\n",
    "\n",
    "myDog = Dog('Rolex')\n",
    "print(myDog.name)\n",
    "print(Dog._leg)\n",
    "print(myDog.getLegs()) # static variable"
   ]
  },
  {
   "cell_type": "code",
   "execution_count": 11,
   "id": "80764395-7fb4-4221-ad9f-8fb92497940c",
   "metadata": {},
   "outputs": [
    {
     "name": "stdout",
     "output_type": "stream",
     "text": [
      "Rolex\n",
      "3\n"
     ]
    }
   ],
   "source": [
    "myDog = Dog('Rolex');\n",
    "myDog._leg = 3;\n",
    "print(myDog.name);\n",
    "print(myDog.getLegs()); # static variable"
   ]
  },
  {
   "cell_type": "markdown",
   "id": "c7ab91ec-1af4-45f3-9733-038ce345e9f6",
   "metadata": {},
   "source": [
    "# Static and Instance method"
   ]
  },
  {
   "cell_type": "markdown",
   "id": "be0b92b8-6df6-4533-aab0-e23700b4d064",
   "metadata": {},
   "source": [
    "### Accessing element through instance variable"
   ]
  },
  {
   "cell_type": "code",
   "execution_count": 25,
   "id": "c8bc28f3-79c1-490e-a891-45bbd74816a0",
   "metadata": {},
   "outputs": [
    {
     "name": "stdout",
     "output_type": "stream",
     "text": [
      "{'to', 'hi', 'a', 'm', 'is', 'want', 'sentence', 'add', 'here', 'another', 'i', 'ryan'}\n"
     ]
    }
   ],
   "source": [
    "class WordSet:\n",
    "    def __init__(self):\n",
    "        self.word = set() \n",
    "\n",
    "    def addText(self, text):\n",
    "        text = self.clearTxt(text) # accessign through instance variable\n",
    "        for t in text.split():\n",
    "            self.word.add(t); \n",
    "\n",
    "    def clearTxt(self, text):\n",
    "        text = text.replace(',','').replace('\\'','').replace(',','').replace('!','').lower()\n",
    "        return text\n",
    "        \n",
    "    \n",
    "\n",
    "word_set = WordSet()\n",
    "word_set.addText('Hi, i\\' m Ryan! Here is a sentence I want to add!');\n",
    "word_set.addText('Here is another sentence i want to add');\n",
    "print(word_set.word)"
   ]
  },
  {
   "cell_type": "markdown",
   "id": "82d06dd8-a870-46e5-bffc-29be8fc7d6ef",
   "metadata": {},
   "source": [
    "### Accessing element through static variable variable"
   ]
  },
  {
   "cell_type": "code",
   "execution_count": 28,
   "id": "ef3cc9c0-2853-44c7-b1d9-4604f43851bf",
   "metadata": {},
   "outputs": [
    {
     "name": "stdout",
     "output_type": "stream",
     "text": [
      "{'to', 'hi', 'a', 'm', 'is', 'want', 'sentence', 'add', 'here', 'another', 'i', 'ryan'}\n"
     ]
    }
   ],
   "source": [
    "class WordSet:\n",
    "    def __init__(self):\n",
    "        self.word = set() \n",
    "\n",
    "    def addText(self, text): # instance method\n",
    "        text = WordSet.clearTxt(text) # accessign through static variable\n",
    "        for t in text.split():\n",
    "            self.word.add(t); \n",
    "\n",
    "    def clearTxt(text): # static method\n",
    "        text = text.replace(',','').replace('\\'','').replace(',','').replace('!','').lower()\n",
    "        return text\n",
    "        \n",
    "    \n",
    "\n",
    "word_set = WordSet()\n",
    "word_set.addText('Hi, i\\' m Ryan! Here is a sentence I want to add!');\n",
    "word_set.addText('Here is another sentence i want to add');\n",
    "print(word_set.word)"
   ]
  },
  {
   "cell_type": "code",
   "execution_count": 35,
   "id": "929227be-e249-4abf-89ed-6f2e9b071233",
   "metadata": {},
   "outputs": [
    {
     "name": "stdout",
     "output_type": "stream",
     "text": [
      "{'to', 'a', 'm', 'is', 'want', 'sentence', 'ryan!', 'add', 'i', 'here', 'add!', 'another', 'hi,', \"i'\"}\n"
     ]
    }
   ],
   "source": [
    "class WordSet:\n",
    "    replacePunc = [',','\\'',',','!']\n",
    "    def __init__(self):\n",
    "        self.word = set() \n",
    "\n",
    "    def addText(self, text): # instance method\n",
    "        text = WordSet.clearTxt(text) # accessign through static variable\n",
    "        #text = WordSet.clearTxt(self, text) # accessign through static variable\n",
    "        for t in text.split():\n",
    "            self.word.add(t); \n",
    "\n",
    "    #def clearTxt(self, text): # static method\n",
    "    def clearTxt(text): # static method\n",
    "        #for punc in self.replacePunc:\n",
    "        for punc in WordSet.replacePunc:\n",
    "            text.replace(punc, '');\n",
    "        return text.lower()\n",
    "        \n",
    "    \n",
    "\n",
    "word_set = WordSet()\n",
    "word_set.addText('Hi, i\\' m Ryan! Here is a sentence I want to add!');\n",
    "word_set.addText('Here is another sentence i want to add');\n",
    "print(word_set.word)"
   ]
  },
  {
   "cell_type": "markdown",
   "id": "56cbb619-7422-48fb-be5c-96b1181ae40a",
   "metadata": {},
   "source": [
    "# Decorators"
   ]
  },
  {
   "cell_type": "code",
   "execution_count": 42,
   "id": "9cd13c68-6f91-44d8-a4e1-6fe1768f55a4",
   "metadata": {},
   "outputs": [
    {
     "name": "stdout",
     "output_type": "stream",
     "text": [
      "{'to', 'a', 'm', 'is', 'want', 'sentence', 'ryan!', 'add', 'i', 'here', 'add!', 'another', 'hi,', \"i'\"}\n"
     ]
    }
   ],
   "source": [
    "class WordSet:\n",
    "    replacePunc = [',','\\'',',','!']\n",
    "    def __init__(self):\n",
    "        self.word = set() \n",
    "\n",
    "    def addText(self, text): # instance method\n",
    "        text = WordSet.clearTxt(text) # accessign through static variable\n",
    "        #text = WordSet.clearTxt(self, text) # accessign through static variable\n",
    "        for t in text.split():\n",
    "            self.word.add(t); \n",
    "\n",
    "    #def clearTxt(self, text): # static method\n",
    "    @staticmethod # this is to instruct python to handle with spl consideration\n",
    "    def clearTxt(text): # static method\n",
    "        #for punc in self.replacePunc:\n",
    "        for punc in WordSet.replacePunc:\n",
    "            text.replace(punc, '');\n",
    "        return text.lower()\n",
    "        \n",
    "    \n",
    "\n",
    "word_set = WordSet()\n",
    "word_set.addText('Hi, i\\' m Ryan! Here is a sentence I want to add!');\n",
    "word_set.addText('Here is another sentence i want to add');\n",
    "print(word_set.word)"
   ]
  },
  {
   "cell_type": "code",
   "execution_count": null,
   "id": "2b56288f-3798-4127-b757-a5c9349b2a1b",
   "metadata": {},
   "outputs": [],
   "source": []
  }
 ],
 "metadata": {
  "kernelspec": {
   "display_name": "Python 3 (ipykernel)",
   "language": "python",
   "name": "python3"
  },
  "language_info": {
   "codemirror_mode": {
    "name": "ipython",
    "version": 3
   },
   "file_extension": ".py",
   "mimetype": "text/x-python",
   "name": "python",
   "nbconvert_exporter": "python",
   "pygments_lexer": "ipython3",
   "version": "3.11.7"
  }
 },
 "nbformat": 4,
 "nbformat_minor": 5
}
