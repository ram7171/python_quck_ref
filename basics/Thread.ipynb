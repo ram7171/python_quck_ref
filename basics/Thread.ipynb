{
 "cells": [
  {
   "cell_type": "code",
   "execution_count": 1,
   "id": "5a47b60c-d035-4f58-86db-15462f79802e",
   "metadata": {},
   "outputs": [],
   "source": [
    "import threading\n",
    "import time"
   ]
  },
  {
   "cell_type": "markdown",
   "id": "eb34a22c-fd69-44b9-88ed-d9734b2a48ed",
   "metadata": {},
   "source": [
    "# Threads"
   ]
  },
  {
   "cell_type": "code",
   "execution_count": 3,
   "id": "e1bce7ab-ea55-49ea-8694-fc64ead61155",
   "metadata": {},
   "outputs": [
    {
     "name": "stdout",
     "output_type": "stream",
     "text": [
      "4\n"
     ]
    },
    {
     "data": {
      "text/plain": [
       "4"
      ]
     },
     "execution_count": 3,
     "metadata": {},
     "output_type": "execute_result"
    }
   ],
   "source": [
    "def longSquare(num):\n",
    "    time.sleep(1)\n",
    "    print(num**2)\n",
    "    return num**2\n",
    "\n",
    "longSquare(2)"
   ]
  },
  {
   "cell_type": "code",
   "execution_count": 12,
   "id": "5d7300bf-59c5-46bc-bf74-a320e6ec863e",
   "metadata": {},
   "outputs": [
    {
     "data": {
      "text/plain": [
       "[0, 1, 4, 9]"
      ]
     },
     "execution_count": 12,
     "metadata": {},
     "output_type": "execute_result"
    }
   ],
   "source": [
    "[longSquare(n) for n in range(4)]"
   ]
  },
  {
   "cell_type": "code",
   "execution_count": 4,
   "id": "eb190a07-e9fa-4613-a990-db230c9fb89f",
   "metadata": {},
   "outputs": [
    {
     "name": "stdout",
     "output_type": "stream",
     "text": [
      "1\n",
      "4\n"
     ]
    }
   ],
   "source": [
    "t1 = threading.Thread(target = longSquare, args=(1,))\n",
    "t2 = threading.Thread(target = longSquare, args=(2,))\n",
    "\n",
    "t1.start()\n",
    "t2.start()\n",
    "\n",
    "t1.join()\n",
    "t2.join()"
   ]
  },
  {
   "cell_type": "code",
   "execution_count": 20,
   "id": "0925949d-405f-49d3-b186-75554c34473f",
   "metadata": {},
   "outputs": [
    {
     "name": "stdout",
     "output_type": "stream",
     "text": [
      "1\n",
      "4\n",
      "{1: 1, 2: 4}\n"
     ]
    }
   ],
   "source": [
    "def longSquare(num, result):\n",
    "    time.sleep(1)\n",
    "    print(num**2)\n",
    "    result[num] =  num**2\n",
    "\n",
    "result = {}\n",
    "t1 = threading.Thread(target = longSquare, args=(1, result))\n",
    "t2 = threading.Thread(target = longSquare, args=(2, result))\n",
    "\n",
    "t1.start()\n",
    "t2.start()\n",
    "\n",
    "t1.join()\n",
    "t2.join()\n",
    "print(result)"
   ]
  },
  {
   "cell_type": "code",
   "execution_count": 24,
   "id": "27494fdd-20c0-4fea-a3cf-8f53a48cfd5a",
   "metadata": {},
   "outputs": [
    {
     "name": "stdout",
     "output_type": "stream",
     "text": [
      "{0: 0, 1: 1, 3: 9, 2: 4, 4: 16, 5: 25, 6: 36, 7: 49, 8: 64, 9: 81, 10: 100, 11: 121, 12: 144, 13: 169, 14: 196, 15: 225, 16: 256, 17: 289, 18: 324, 19: 361, 20: 400, 21: 441, 22: 484, 23: 529, 24: 576, 25: 625, 26: 676, 27: 729, 28: 784, 29: 841}\n"
     ]
    }
   ],
   "source": [
    "def longSquare(num, result):\n",
    "    time.sleep(1)\n",
    "    result[num] =  num**2\n",
    "\n",
    "result = {}\n",
    "threads = [threading.Thread(target = longSquare, args=(n, result)) for n in range(30)]\n",
    "[t.start() for t in threads]\n",
    "[t.join() for t in threads]\n",
    "print(result)\n"
   ]
  },
  {
   "cell_type": "code",
   "execution_count": null,
   "id": "bd0d7137-d52d-4569-8c2c-ba45b39431ad",
   "metadata": {},
   "outputs": [],
   "source": []
  }
 ],
 "metadata": {
  "kernelspec": {
   "display_name": "Python 3 (ipykernel)",
   "language": "python",
   "name": "python3"
  },
  "language_info": {
   "codemirror_mode": {
    "name": "ipython",
    "version": 3
   },
   "file_extension": ".py",
   "mimetype": "text/x-python",
   "name": "python",
   "nbconvert_exporter": "python",
   "pygments_lexer": "ipython3",
   "version": "3.11.7"
  }
 },
 "nbformat": 4,
 "nbformat_minor": 5
}
