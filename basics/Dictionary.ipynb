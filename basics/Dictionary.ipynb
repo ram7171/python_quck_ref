{
 "cells": [
  {
   "cell_type": "markdown",
   "id": "6692b8d8-98f7-495a-97bc-b47db81cb903",
   "metadata": {},
   "source": [
    "# Dictionary"
   ]
  },
  {
   "cell_type": "code",
   "execution_count": 24,
   "id": "4fd932c2-4e69-4985-903b-7c01c8e1c6c7",
   "metadata": {},
   "outputs": [],
   "source": [
    "from collections import defaultdict"
   ]
  },
  {
   "cell_type": "code",
   "execution_count": 1,
   "id": "59988dcb-520f-4086-a971-64087cee2923",
   "metadata": {},
   "outputs": [
    {
     "name": "stdout",
     "output_type": "stream",
     "text": [
      "{'a': 'antelope', 'b': 'bear', 'c': 'cat'}\n"
     ]
    }
   ],
   "source": [
    "animals = {\n",
    "    'a' : 'antelope',\n",
    "    'b' : 'bear',\n",
    "    'c': 'cat',\n",
    "};\n",
    "print(animals)"
   ]
  },
  {
   "cell_type": "code",
   "execution_count": 2,
   "id": "0ba840d9-9e6c-44ba-baff-50a473dcf56a",
   "metadata": {},
   "outputs": [
    {
     "data": {
      "text/plain": [
       "3"
      ]
     },
     "execution_count": 2,
     "metadata": {},
     "output_type": "execute_result"
    }
   ],
   "source": [
    "len(animals)"
   ]
  },
  {
   "cell_type": "code",
   "execution_count": 3,
   "id": "ada34e6e-d9ad-470a-9ccd-b69ee6b9f396",
   "metadata": {},
   "outputs": [
    {
     "data": {
      "text/plain": [
       "'antelope'"
      ]
     },
     "execution_count": 3,
     "metadata": {},
     "output_type": "execute_result"
    }
   ],
   "source": [
    "animals['a']"
   ]
  },
  {
   "cell_type": "code",
   "execution_count": 4,
   "id": "b9772a41-80c5-420e-8a95-2b8e6a19deb5",
   "metadata": {},
   "outputs": [],
   "source": [
    "animals['a'] = ['ant', 'antelope']"
   ]
  },
  {
   "cell_type": "code",
   "execution_count": 5,
   "id": "d7f82e4a-279a-4905-8248-6e652e97f881",
   "metadata": {},
   "outputs": [
    {
     "data": {
      "text/plain": [
       "{'a': ['ant', 'antelope'], 'b': 'bear', 'c': 'cat'}"
      ]
     },
     "execution_count": 5,
     "metadata": {},
     "output_type": "execute_result"
    }
   ],
   "source": [
    "animals"
   ]
  },
  {
   "cell_type": "code",
   "execution_count": 6,
   "id": "44198394-6429-4708-9f77-6ffc8ba42651",
   "metadata": {},
   "outputs": [
    {
     "data": {
      "text/plain": [
       "2"
      ]
     },
     "execution_count": 6,
     "metadata": {},
     "output_type": "execute_result"
    }
   ],
   "source": [
    "len(animals['a'])"
   ]
  },
  {
   "cell_type": "code",
   "execution_count": 7,
   "id": "cdb4814e-f6f1-4f90-b11e-00cc67f51782",
   "metadata": {},
   "outputs": [],
   "source": [
    "animals['d'] = ['dog']"
   ]
  },
  {
   "cell_type": "code",
   "execution_count": 8,
   "id": "377508a8-5016-481d-9c9e-4aec656549f9",
   "metadata": {},
   "outputs": [
    {
     "data": {
      "text/plain": [
       "{'a': ['ant', 'antelope'], 'b': 'bear', 'c': 'cat', 'd': ['dog']}"
      ]
     },
     "execution_count": 8,
     "metadata": {},
     "output_type": "execute_result"
    }
   ],
   "source": [
    "animals"
   ]
  },
  {
   "cell_type": "code",
   "execution_count": 9,
   "id": "c5610489-82f9-4e7a-887e-85ad3b348896",
   "metadata": {},
   "outputs": [
    {
     "data": {
      "text/plain": [
       "dict_keys(['a', 'b', 'c', 'd'])"
      ]
     },
     "execution_count": 9,
     "metadata": {},
     "output_type": "execute_result"
    }
   ],
   "source": [
    "animals.keys()"
   ]
  },
  {
   "cell_type": "code",
   "execution_count": 10,
   "id": "8f275978-dc0a-4fa9-b4cb-7649ff7b651d",
   "metadata": {},
   "outputs": [
    {
     "data": {
      "text/plain": [
       "dict_values([['ant', 'antelope'], 'bear', 'cat', ['dog']])"
      ]
     },
     "execution_count": 10,
     "metadata": {},
     "output_type": "execute_result"
    }
   ],
   "source": [
    "animals.values()"
   ]
  },
  {
   "cell_type": "code",
   "execution_count": 11,
   "id": "072f7b66-7a38-4507-9147-18a0647698d9",
   "metadata": {},
   "outputs": [
    {
     "data": {
      "text/plain": [
       "dict_keys"
      ]
     },
     "execution_count": 11,
     "metadata": {},
     "output_type": "execute_result"
    }
   ],
   "source": [
    "type(animals.keys())"
   ]
  },
  {
   "cell_type": "code",
   "execution_count": 12,
   "id": "aa1ede03-5bc4-4be6-82f5-2e876e080731",
   "metadata": {},
   "outputs": [
    {
     "data": {
      "text/plain": [
       "dict_values"
      ]
     },
     "execution_count": 12,
     "metadata": {},
     "output_type": "execute_result"
    }
   ],
   "source": [
    "type(animals.values())"
   ]
  },
  {
   "cell_type": "code",
   "execution_count": 14,
   "id": "6a041507-1277-483f-ba1a-3c2d039cd3b5",
   "metadata": {},
   "outputs": [
    {
     "data": {
      "text/plain": [
       "['a', 'b', 'c', 'd']"
      ]
     },
     "execution_count": 14,
     "metadata": {},
     "output_type": "execute_result"
    }
   ],
   "source": [
    "list(animals.keys())"
   ]
  },
  {
   "cell_type": "code",
   "execution_count": 15,
   "id": "1e354072-b01d-4c8f-9200-488424b5bf29",
   "metadata": {},
   "outputs": [
    {
     "data": {
      "text/plain": [
       "[['ant', 'antelope'], 'bear', 'cat', ['dog']]"
      ]
     },
     "execution_count": 15,
     "metadata": {},
     "output_type": "execute_result"
    }
   ],
   "source": [
    "list(animals.values())"
   ]
  },
  {
   "cell_type": "code",
   "execution_count": 17,
   "id": "75b324f4-396d-4ed1-adff-ee692641ef34",
   "metadata": {},
   "outputs": [
    {
     "ename": "KeyError",
     "evalue": "'e'",
     "output_type": "error",
     "traceback": [
      "\u001b[0;31m---------------------------------------------------------------------------\u001b[0m",
      "\u001b[0;31mKeyError\u001b[0m                                  Traceback (most recent call last)",
      "Cell \u001b[0;32mIn[17], line 1\u001b[0m\n\u001b[0;32m----> 1\u001b[0m animals[\u001b[38;5;124m'\u001b[39m\u001b[38;5;124me\u001b[39m\u001b[38;5;124m'\u001b[39m]\n",
      "\u001b[0;31mKeyError\u001b[0m: 'e'"
     ]
    }
   ],
   "source": [
    "animals['e']"
   ]
  },
  {
   "cell_type": "code",
   "execution_count": 18,
   "id": "88ba6eb4-364f-4dd8-a66a-bd60864455e4",
   "metadata": {},
   "outputs": [
    {
     "name": "stdout",
     "output_type": "stream",
     "text": [
      "{'a': ['ant', 'antelope', 'aardvark'], 'b': 'bear', 'c': 'cat', 'd': ['dog']}\n"
     ]
    }
   ],
   "source": [
    "animals['a'].append('aardvark')\n",
    "print(animals)"
   ]
  },
  {
   "cell_type": "code",
   "execution_count": 19,
   "id": "7d26d7cb-5abd-420c-bf41-7336e63fa89e",
   "metadata": {},
   "outputs": [
    {
     "data": {
      "text/plain": [
       "False"
      ]
     },
     "execution_count": 19,
     "metadata": {},
     "output_type": "execute_result"
    }
   ],
   "source": [
    "'e' in animals"
   ]
  },
  {
   "cell_type": "code",
   "execution_count": 22,
   "id": "4c431132-8230-472b-95e4-015a49cec62b",
   "metadata": {},
   "outputs": [
    {
     "data": {
      "text/plain": [
       "{'a': ['ant', 'antelope', 'aardvark'],\n",
       " 'b': 'bear',\n",
       " 'c': 'cat',\n",
       " 'd': ['dog'],\n",
       " 'e': ['elephant', 'elephant', 'elephant']}"
      ]
     },
     "execution_count": 22,
     "metadata": {},
     "output_type": "execute_result"
    }
   ],
   "source": [
    "if('e' not in animals):\n",
    "    animals['e'] = [];\n",
    "animals['e'].append('elephant');\n",
    "animals"
   ]
  },
  {
   "cell_type": "markdown",
   "id": "56a15f83-6d48-4adf-9613-63215de3012f",
   "metadata": {},
   "source": [
    "## The Default Dict"
   ]
  },
  {
   "cell_type": "code",
   "execution_count": 25,
   "id": "f0fef71a-d623-4347-bcb7-7c3c6262f7be",
   "metadata": {},
   "outputs": [
    {
     "data": {
      "text/plain": [
       "{'a': ['ant', 'antelope', 'aardvark'],\n",
       " 'b': 'bear',\n",
       " 'c': 'cat',\n",
       " 'd': ['dog'],\n",
       " 'e': ['elephant', 'elephant', 'elephant']}"
      ]
     },
     "execution_count": 25,
     "metadata": {},
     "output_type": "execute_result"
    }
   ],
   "source": [
    "animals"
   ]
  },
  {
   "cell_type": "code",
   "execution_count": 35,
   "id": "dff0649e-4937-454a-8723-78189ecdaea5",
   "metadata": {},
   "outputs": [
    {
     "data": {
      "text/plain": [
       "defaultdict(list, {})"
      ]
     },
     "execution_count": 35,
     "metadata": {},
     "output_type": "execute_result"
    }
   ],
   "source": [
    "animals = defaultdict(list)\n",
    "animals"
   ]
  },
  {
   "cell_type": "code",
   "execution_count": 30,
   "id": "b64e4338-c0ee-447d-96f3-78c6f3a86cdd",
   "metadata": {},
   "outputs": [
    {
     "data": {
      "text/plain": [
       "defaultdict(None, {})"
      ]
     },
     "execution_count": 30,
     "metadata": {},
     "output_type": "execute_result"
    }
   ],
   "source": [
    "animals = defaultdict()\n",
    "animals"
   ]
  },
  {
   "cell_type": "code",
   "execution_count": 37,
   "id": "a5836b36-c017-4558-b726-4a40051fea28",
   "metadata": {},
   "outputs": [
    {
     "data": {
      "text/plain": [
       "defaultdict(list, {'e': ['elephant', 'elephant']})"
      ]
     },
     "execution_count": 37,
     "metadata": {},
     "output_type": "execute_result"
    }
   ],
   "source": [
    "animals['e'].append('elephant')\n",
    "animals"
   ]
  },
  {
   "cell_type": "code",
   "execution_count": 38,
   "id": "c3ca43f5-492e-40df-8136-3699891d44b3",
   "metadata": {},
   "outputs": [
    {
     "data": {
      "text/plain": [
       "defaultdict(list, {'e': ['elephant']})"
      ]
     },
     "execution_count": 38,
     "metadata": {},
     "output_type": "execute_result"
    }
   ],
   "source": [
    "defaultdict(list, {'e': ['elephant']})"
   ]
  },
  {
   "cell_type": "code",
   "execution_count": 41,
   "id": "80f2dc3f-5248-4196-a261-0ae54f259866",
   "metadata": {},
   "outputs": [
    {
     "data": {
      "text/plain": [
       "defaultdict(list, {'e': ['elephant', 'elephant', 'emu', 'emu', 'emu']})"
      ]
     },
     "execution_count": 41,
     "metadata": {},
     "output_type": "execute_result"
    }
   ],
   "source": [
    "animals['e'].append('emu')\n",
    "animals"
   ]
  },
  {
   "cell_type": "code",
   "execution_count": null,
   "id": "bcead47f-5969-43e8-be02-c05cca747e12",
   "metadata": {},
   "outputs": [],
   "source": []
  }
 ],
 "metadata": {
  "kernelspec": {
   "display_name": "Python 3 (ipykernel)",
   "language": "python",
   "name": "python3"
  },
  "language_info": {
   "codemirror_mode": {
    "name": "ipython",
    "version": 3
   },
   "file_extension": ".py",
   "mimetype": "text/x-python",
   "name": "python",
   "nbconvert_exporter": "python",
   "pygments_lexer": "ipython3",
   "version": "3.11.7"
  }
 },
 "nbformat": 4,
 "nbformat_minor": 5
}
