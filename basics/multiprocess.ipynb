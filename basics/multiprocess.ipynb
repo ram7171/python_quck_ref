{
 "cells": [
  {
   "cell_type": "code",
   "execution_count": 18,
   "id": "998bf23f-1b62-485a-9693-ea3c075cef80",
   "metadata": {},
   "outputs": [],
   "source": [
    "from multiprocessing import Process\n",
    "import time\n",
    "import threading"
   ]
  },
  {
   "cell_type": "markdown",
   "id": "097d64c5-5372-43de-bb74-3db13067b336",
   "metadata": {},
   "source": [
    "## Multi process"
   ]
  },
  {
   "cell_type": "markdown",
   "id": "f56016d3-f01d-4316-82bb-2fd259739e53",
   "metadata": {},
   "source": [
    "##### sudo apt install python3-pip"
   ]
  },
  {
   "cell_type": "code",
   "execution_count": 21,
   "id": "c78138cf-5330-4918-ae46-879be4bd49f5",
   "metadata": {},
   "outputs": [
    {
     "name": "stdout",
     "output_type": "stream",
     "text": [
      "1\n",
      "Finished computing\n",
      "4\n",
      "Finished computing\n",
      "0\n",
      "Finished computing\n",
      "{}\n"
     ]
    }
   ],
   "source": [
    "def longSquare(num, result):\n",
    "    time.sleep(1)\n",
    "    print(num**2)\n",
    "    result[num] = num**2\n",
    "    print('Finished computing')\n",
    "\n",
    "result = {}\n",
    "processess = [Process(target=longSquare, args=(n, result)) for n in range(3)]\n",
    "[p.start() for p in processess]\n",
    "[p.join() for p in processess]\n",
    "print(result)"
   ]
  },
  {
   "cell_type": "code",
   "execution_count": 22,
   "id": "e853a39c-357a-45ba-9379-9eb28dda413f",
   "metadata": {},
   "outputs": [
    {
     "name": "stdout",
     "output_type": "stream",
     "text": [
      "0\n",
      "Finished computing\n",
      "1\n",
      "Finished computing\n",
      "4\n",
      "Finished computing\n",
      "{0: 0, 1: 1, 2: 4}\n"
     ]
    }
   ],
   "source": [
    "result = {}\n",
    "threads = [threading.Thread(target = longSquare, args=(n, result)) for n in range(3)]\n",
    "[t.start() for t in threads]\n",
    "[t.join() for t in threads]\n",
    "print(result)"
   ]
  },
  {
   "cell_type": "code",
   "execution_count": null,
   "id": "7c958d93-61d8-46a2-8def-ac45bb26f5c0",
   "metadata": {},
   "outputs": [],
   "source": []
  }
 ],
 "metadata": {
  "kernelspec": {
   "display_name": "Python 3 (ipykernel)",
   "language": "python",
   "name": "python3"
  },
  "language_info": {
   "codemirror_mode": {
    "name": "ipython",
    "version": 3
   },
   "file_extension": ".py",
   "mimetype": "text/x-python",
   "name": "python",
   "nbconvert_exporter": "python",
   "pygments_lexer": "ipython3",
   "version": "3.11.7"
  }
 },
 "nbformat": 4,
 "nbformat_minor": 5
}
