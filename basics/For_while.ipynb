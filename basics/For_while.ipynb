{
 "cells": [
  {
   "cell_type": "code",
   "execution_count": 1,
   "id": "f1cac727-ffa4-42ce-be0e-9147be21c85a",
   "metadata": {},
   "outputs": [],
   "source": [
    "from datetime import datetime"
   ]
  },
  {
   "cell_type": "markdown",
   "id": "273ee02f-5062-4e69-90d9-af50c814db01",
   "metadata": {},
   "source": [
    "# while loop"
   ]
  },
  {
   "cell_type": "code",
   "execution_count": 2,
   "id": "2735b388-c2c2-4a37-b77e-d58c968c2591",
   "metadata": {},
   "outputs": [
    {
     "data": {
      "text/plain": [
       "datetime.datetime(2024, 4, 30, 8, 15, 31, 998353)"
      ]
     },
     "execution_count": 2,
     "metadata": {},
     "output_type": "execute_result"
    }
   ],
   "source": [
    "datetime.now()"
   ]
  },
  {
   "cell_type": "code",
   "execution_count": 3,
   "id": "be6aeb16-4b28-41cc-b384-e8f6a4570487",
   "metadata": {},
   "outputs": [
    {
     "data": {
      "text/plain": [
       "16"
      ]
     },
     "execution_count": 3,
     "metadata": {},
     "output_type": "execute_result"
    }
   ],
   "source": [
    "datetime.now().minute"
   ]
  },
  {
   "cell_type": "code",
   "execution_count": 8,
   "id": "2ac2c7b9-367c-4997-b2d7-22a68990da46",
   "metadata": {},
   "outputs": [
    {
     "name": "stdout",
     "output_type": "stream",
     "text": [
      "watied 2 seconds\n"
     ]
    }
   ],
   "source": [
    "wait_until = datetime.now().second + 2\n",
    "while datetime.now().second != wait_until:\n",
    "    pass;\n",
    "print(f'watied 2 seconds');\n"
   ]
  },
  {
   "cell_type": "code",
   "execution_count": 14,
   "id": "6c7bd24e-0592-4751-8829-67ee1249140d",
   "metadata": {},
   "outputs": [],
   "source": [
    "wait_until = (datetime.now().second + 2) % 60"
   ]
  },
  {
   "cell_type": "code",
   "execution_count": 16,
   "id": "893a6135-4c7e-4efd-abd5-16314109eec2",
   "metadata": {},
   "outputs": [
    {
     "name": "stdout",
     "output_type": "stream",
     "text": [
      "2024-04-30 08:28:23.920473\n",
      "waited for 2 seconds then break\n",
      "2024-04-30 08:28:26.000147\n"
     ]
    }
   ],
   "source": [
    "previouse_time = datetime.now();\n",
    "print(previouse_time);\n",
    "while True:\n",
    "    if wait_until == datetime.now().second:\n",
    "        print('waited for 2 seconds then break');\n",
    "        break;\n",
    "previouse_time = datetime.now();\n",
    "print(previouse_time);\n"
   ]
  },
  {
   "cell_type": "code",
   "execution_count": 19,
   "id": "bfa556fb-ce50-40ab-b183-01cc1478e5a3",
   "metadata": {},
   "outputs": [
    {
     "name": "stdout",
     "output_type": "stream",
     "text": [
      "break statement now\n",
      "wating time 9\n"
     ]
    }
   ],
   "source": [
    "wait_until = (datetime.now().second + 2) % 60\n",
    "while True:\n",
    "    if(datetime.now().second < wait_until):\n",
    "        continue;\n",
    "    print('break statement now');\n",
    "    break;\n",
    "print(f'wating time {wait_until}');\n",
    "    "
   ]
  },
  {
   "cell_type": "markdown",
   "id": "5773a11e-0701-4c1f-b7fb-9d8fd321f713",
   "metadata": {},
   "source": [
    "# For Loop"
   ]
  },
  {
   "cell_type": "code",
   "execution_count": 20,
   "id": "e2ce488d-f729-49a7-a86d-afc17112a832",
   "metadata": {},
   "outputs": [
    {
     "name": "stdout",
     "output_type": "stream",
     "text": [
      "1\n",
      "2\n",
      "3\n",
      "4\n",
      "5\n"
     ]
    }
   ],
   "source": [
    "myList = [1,2,3,4,5];\n",
    "for item in myList:\n",
    "    print(item);"
   ]
  },
  {
   "cell_type": "markdown",
   "id": "f4298e99-e1af-4baa-af4e-da58d72194b6",
   "metadata": {},
   "source": [
    "### pass"
   ]
  },
  {
   "cell_type": "code",
   "execution_count": 23,
   "id": "70a286d7-5151-4050-9d3b-e012e7107f25",
   "metadata": {},
   "outputs": [
    {
     "name": "stdout",
     "output_type": "stream",
     "text": [
      "a\n",
      "b\n",
      "c\n"
     ]
    }
   ],
   "source": [
    "myDict = {\n",
    "    'a' : ['ant','antelope'],\n",
    "    'b' : ['bear'],\n",
    "    'c' : ['cat'],\n",
    "}\n",
    "for letter, item in myDict.items():\n",
    "    pass;\n",
    "    print(letter);\n",
    "\n"
   ]
  },
  {
   "cell_type": "markdown",
   "id": "7fa9c6dc-fbac-42b6-a7cd-6444b3dbf92b",
   "metadata": {},
   "source": [
    "### continue"
   ]
  },
  {
   "cell_type": "code",
   "execution_count": 24,
   "id": "342ba1c4-1660-4b1e-bf14-04cf1efc6edb",
   "metadata": {},
   "outputs": [
    {
     "name": "stdout",
     "output_type": "stream",
     "text": [
      "b\n",
      "c\n"
     ]
    }
   ],
   "source": [
    "for letter, item in myDict.items():\n",
    "    if(len(item) > 1):\n",
    "        continue;\n",
    "    print(letter);\n",
    "    "
   ]
  },
  {
   "cell_type": "markdown",
   "id": "fbe1c84d-1d42-4598-9e17-d2310d35f416",
   "metadata": {},
   "source": [
    "### break"
   ]
  },
  {
   "cell_type": "code",
   "execution_count": 25,
   "id": "495b93e9-0219-415b-92fd-43a7d74f3e3b",
   "metadata": {},
   "outputs": [
    {
     "name": "stdout",
     "output_type": "stream",
     "text": [
      "a\n"
     ]
    }
   ],
   "source": [
    "for letter, item in myDict.items():\n",
    "    if(len(item) > 1):\n",
    "        print(letter);\n",
    "        break;\n",
    "    "
   ]
  },
  {
   "cell_type": "markdown",
   "id": "4c8d1628-4633-4377-8b4b-5126c6dc9077",
   "metadata": {},
   "source": [
    "# For / Else"
   ]
  },
  {
   "cell_type": "code",
   "execution_count": 26,
   "id": "657455cc-58b7-4dc1-9ca8-d50eca3c8021",
   "metadata": {},
   "outputs": [
    {
     "name": "stdout",
     "output_type": "stream",
     "text": [
      "1.4142135623730951\n"
     ]
    }
   ],
   "source": [
    "number = 2;\n",
    "print(number**0.5);\n"
   ]
  },
  {
   "cell_type": "code",
   "execution_count": 29,
   "id": "2ede5c69-b3bb-4bb5-8259-14c6bd9d7c00",
   "metadata": {},
   "outputs": [
    {
     "name": "stdout",
     "output_type": "stream",
     "text": [
      "1\n",
      "2\n",
      "3\n",
      "4\n"
     ]
    }
   ],
   "source": [
    "for number in range(1, 5):\n",
    "    print(number);"
   ]
  },
  {
   "cell_type": "code",
   "execution_count": 37,
   "id": "6a1bb7b7-353a-4795-a0d2-23c1d918271a",
   "metadata": {},
   "outputs": [
    {
     "name": "stdout",
     "output_type": "stream",
     "text": [
      "2 is prmie\n",
      "3 is prmie\n",
      "4, 2\n",
      "5, 2\n",
      "5 is prmie\n",
      "6, 2\n",
      "7, 2\n",
      "7 is prmie\n",
      "8, 2\n",
      "9, 2\n",
      "9, 3\n"
     ]
    }
   ],
   "source": [
    "for number in range(2, 10):\n",
    "    list = range(2, int(number**0.5) + 1);\n",
    "    #print(f'list {list}')\n",
    "    for factor in range(2, int(number**0.5) + 1):\n",
    "        print(f'{number}, {factor}');\n",
    "        if number % factor == 0:\n",
    "            break;\n",
    "    else:\n",
    "        print(f'{number} is prmie');"
   ]
  },
  {
   "cell_type": "code",
   "execution_count": 39,
   "id": "6b91e42e-a160-4ad7-afe6-b5703a58d91c",
   "metadata": {},
   "outputs": [
    {
     "name": "stdout",
     "output_type": "stream",
     "text": [
      "2 is prmie\n",
      "3 is prmie\n",
      "5 is prmie\n",
      "7 is prmie\n"
     ]
    }
   ],
   "source": [
    "for number in range(2, 10):\n",
    "    found_factor = False;\n",
    "    for factor in range(2, int(number**0.5) + 1):\n",
    "        if number % factor == 0:\n",
    "            found_factor = True;\n",
    "            break;\n",
    "    if not found_factor:\n",
    "        print(f'{number} is prmie');"
   ]
  },
  {
   "cell_type": "code",
   "execution_count": null,
   "id": "f490f538-06ce-4b6f-becb-baec1e517c2a",
   "metadata": {},
   "outputs": [],
   "source": [
    "for num in range(2,10):\n",
    "    num"
   ]
  }
 ],
 "metadata": {
  "kernelspec": {
   "display_name": "Python 3 (ipykernel)",
   "language": "python",
   "name": "python3"
  },
  "language_info": {
   "codemirror_mode": {
    "name": "ipython",
    "version": 3
   },
   "file_extension": ".py",
   "mimetype": "text/x-python",
   "name": "python",
   "nbconvert_exporter": "python",
   "pygments_lexer": "ipython3",
   "version": "3.11.7"
  }
 },
 "nbformat": 4,
 "nbformat_minor": 5
}
