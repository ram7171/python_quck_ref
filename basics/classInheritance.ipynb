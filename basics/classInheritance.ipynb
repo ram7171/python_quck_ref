{
 "cells": [
  {
   "cell_type": "markdown",
   "id": "deea4b8e-291d-40e6-9f12-f5bee321988d",
   "metadata": {},
   "source": [
    "# Class Inheritance"
   ]
  },
  {
   "cell_type": "code",
   "execution_count": 17,
   "id": "9142069f-8b51-46a6-8d24-afb1f1f16d7f",
   "metadata": {},
   "outputs": [],
   "source": [
    "class Dog:\n",
    "    _legs = 4\n",
    "    def __init__(self, name):\n",
    "        self.name = name\n",
    "        \n",
    "    def speak(self):\n",
    "        print(self.name + ' says ')\n",
    "\n",
    "    def getLegs(self):\n",
    "        return self._legs\n",
    "\n",
    "class Rolex(Dog): # this means Rolex is inheriting Dog\n",
    "    pass\n",
    "    \n",
    "class Roller(Dog):\n",
    "    def speak(self):\n",
    "        print(self.name + ' says ')\n",
    "        \n",
    "    def additionafunction(self):\n",
    "        print('addition function in extended class')"
   ]
  },
  {
   "cell_type": "code",
   "execution_count": 4,
   "id": "35340fac-3b42-4e6e-a520-c70f1cadbc2e",
   "metadata": {},
   "outputs": [
    {
     "name": "stdout",
     "output_type": "stream",
     "text": [
      "I am Rolex says \n"
     ]
    }
   ],
   "source": [
    "rolex = Rolex('I am Rolex')\n",
    "rolex.speak()"
   ]
  },
  {
   "cell_type": "code",
   "execution_count": 18,
   "id": "7400ea5e-0a9d-4204-8ca6-332cf3874912",
   "metadata": {},
   "outputs": [
    {
     "name": "stdout",
     "output_type": "stream",
     "text": [
      "i am extending Dog and overriden speak funciton says \n",
      "addition function in extended class\n"
     ]
    }
   ],
   "source": [
    "roller = Roller('i am extending Dog and overriden speak funciton')\n",
    "roller.speak()\n",
    "roller.additionafunction()"
   ]
  },
  {
   "cell_type": "code",
   "execution_count": 10,
   "id": "52ddcbf4-5acf-488f-ae86-cfb58e1cbb6f",
   "metadata": {},
   "outputs": [
    {
     "name": "stdout",
     "output_type": "stream",
     "text": [
      "Rover says \n"
     ]
    }
   ],
   "source": [
    "myDog = Dog('Rover')\n",
    "myDog.speak()"
   ]
  },
  {
   "cell_type": "markdown",
   "id": "668c648b-5272-44b3-bf42-145a817a8c36",
   "metadata": {},
   "source": [
    "# Extending Built-in Class"
   ]
  },
  {
   "cell_type": "code",
   "execution_count": 19,
   "id": "23f8ab9c-5ba1-4373-a67e-b8d8c8eedfd7",
   "metadata": {},
   "outputs": [],
   "source": [
    "myList = list()"
   ]
  },
  {
   "cell_type": "code",
   "execution_count": 20,
   "id": "cbb4336d-f264-45d4-ab03-8e1e82e2edae",
   "metadata": {},
   "outputs": [
    {
     "data": {
      "text/plain": [
       "[]"
      ]
     },
     "execution_count": 20,
     "metadata": {},
     "output_type": "execute_result"
    }
   ],
   "source": [
    "myList"
   ]
  },
  {
   "cell_type": "code",
   "execution_count": 22,
   "id": "0569e1be-c230-4547-8cd8-81eb651d5fab",
   "metadata": {},
   "outputs": [
    {
     "name": "stdout",
     "output_type": "stream",
     "text": [
      "[1, 2]\n"
     ]
    }
   ],
   "source": [
    "class UniqueList(list): # extending built-in list class\n",
    "    def append(self, item):\n",
    "        if item in self:\n",
    "            return\n",
    "        super().append(item)\n",
    "\n",
    "uniqueList = UniqueList()\n",
    "uniqueList.append(1)\n",
    "uniqueList.append(2)\n",
    "uniqueList.append(2)\n",
    "\n",
    "print(uniqueList)\n",
    "    "
   ]
  },
  {
   "cell_type": "markdown",
   "id": "907ff5d7-eef7-46ce-a142-8556209c9073",
   "metadata": {},
   "source": [
    "### initialize super class "
   ]
  },
  {
   "cell_type": "code",
   "execution_count": 24,
   "id": "b6e3fea0-4407-4e12-b3ea-189669071bab",
   "metadata": {},
   "outputs": [
    {
     "name": "stdout",
     "output_type": "stream",
     "text": [
      "[2]\n",
      "some property in unique class\n"
     ]
    }
   ],
   "source": [
    "class UniqueList(list): # extending built-in list class\n",
    "    def append(self, item):\n",
    "        super().__init__()\n",
    "        self.someprop = 'some property in unique class'\n",
    "        if item in self:\n",
    "            return\n",
    "        super().append(item)\n",
    "\n",
    "uniqueList = UniqueList()\n",
    "uniqueList.append(1)\n",
    "uniqueList.append(2)\n",
    "uniqueList.append(2)\n",
    "\n",
    "print(uniqueList)\n",
    "print(uniqueList.someprop)\n",
    "    "
   ]
  },
  {
   "cell_type": "markdown",
   "id": "6444d0f6-bf73-4efc-8aa9-c06abef56762",
   "metadata": {},
   "source": [
    "# Excercise"
   ]
  },
  {
   "cell_type": "code",
   "execution_count": 51,
   "id": "16e749ca-b99b-4151-a3f1-361dd54ffc16",
   "metadata": {},
   "outputs": [],
   "source": [
    "class Shape:\n",
    "    width = 5\n",
    "    height = 5\n",
    "    printChar = '#'\n",
    "\n",
    "    def printRow(self, i):\n",
    "        raise NotImplementedError('will be implemented by child class')\n",
    "\n",
    "    def print1(self):\n",
    "        for i in range(self.height):\n",
    "            self.printRow(i)\n",
    "\n",
    "class Square(Shape):\n",
    "    def printRow(self, i):\n",
    "        print(self.printChar * self.width)\n",
    "\n",
    "class Triangle(Shape):\n",
    "    def printRow(self, i):\n",
    "        print(self.printChar * i)\n",
    "\n",
    "class Equilateral(Shape):\n",
    "    height = 5\n",
    "    width = height * 2\n",
    "\n",
    "    def printRow(self, i):\n",
    "        tWidh = i * 2 + 1\n",
    "        padding = int((self.width - tWidh)/2)\n",
    "        #print(str(i) + ' ' +str(tWidh) + ' ' + str(padding))\n",
    "        print(' '*padding + self.printChar * tWidh)\n",
    "\n",
    "    \n",
    "# square = Square()\n",
    "# square.print1()\n",
    "\n",
    "# t = Triangle()\n",
    "# t.print1()"
   ]
  },
  {
   "cell_type": "code",
   "execution_count": 52,
   "id": "b840ff7c-7cf1-408a-ab97-92c7844c0f37",
   "metadata": {},
   "outputs": [
    {
     "name": "stdout",
     "output_type": "stream",
     "text": [
      "    #\n",
      "   ###\n",
      "  #####\n",
      " #######\n",
      "#########\n"
     ]
    }
   ],
   "source": [
    "t = Equilateral()\n",
    "t.print1()"
   ]
  },
  {
   "cell_type": "code",
   "execution_count": 62,
   "id": "0b9e4dcc-6763-4c00-9732-57fc6512dc80",
   "metadata": {},
   "outputs": [
    {
     "name": "stdout",
     "output_type": "stream",
     "text": [
      "    #\n",
      "   ###\n",
      "  #####\n",
      " #######\n",
      "#########\n"
     ]
    }
   ],
   "source": [
    "def printChar():\n",
    "    padding = 4\n",
    "    temp = 1\n",
    "    for i in range(5):        \n",
    "        print(' ' * padding + temp* '#')\n",
    "        padding = padding - 1;\n",
    "        temp = temp + 2;\n",
    "\n",
    "printChar()\n",
    "    "
   ]
  },
  {
   "cell_type": "code",
   "execution_count": null,
   "id": "23c55376-b077-42c7-af20-3e679075b03a",
   "metadata": {},
   "outputs": [],
   "source": []
  }
 ],
 "metadata": {
  "kernelspec": {
   "display_name": "Python 3 (ipykernel)",
   "language": "python",
   "name": "python3"
  },
  "language_info": {
   "codemirror_mode": {
    "name": "ipython",
    "version": 3
   },
   "file_extension": ".py",
   "mimetype": "text/x-python",
   "name": "python",
   "nbconvert_exporter": "python",
   "pygments_lexer": "ipython3",
   "version": "3.11.7"
  }
 },
 "nbformat": 4,
 "nbformat_minor": 5
}
