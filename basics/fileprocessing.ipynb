{
 "cells": [
  {
   "cell_type": "markdown",
   "id": "37d65fcd-aa3f-43e7-b698-432f0cdcd17f",
   "metadata": {},
   "source": [
    "# File Processing"
   ]
  },
  {
   "cell_type": "markdown",
   "id": "f73a8012-8433-4ba4-b479-cc8576bc0165",
   "metadata": {},
   "source": [
    "## Reading Files"
   ]
  },
  {
   "cell_type": "code",
   "execution_count": 1,
   "id": "d4a99057-96c4-43fb-a73c-203b199d3e58",
   "metadata": {},
   "outputs": [
    {
     "name": "stdout",
     "output_type": "stream",
     "text": [
      "<_io.TextIOWrapper name='/home/ram/anaconda3/bin/ml/file.txt' mode='r' encoding='UTF-8'>\n"
     ]
    }
   ],
   "source": [
    "f = open('/home/ram/anaconda3/bin/ml/file.txt','r')\n",
    "print(f)"
   ]
  },
  {
   "cell_type": "code",
   "execution_count": 2,
   "id": "edd3d207-c00d-4903-85a6-4d47afe2d4a5",
   "metadata": {},
   "outputs": [
    {
     "data": {
      "text/plain": [
       "'ave the parentheses. However, if I try to open above setup.py file, it cannot be opened and if \\n'"
      ]
     },
     "execution_count": 2,
     "metadata": {},
     "output_type": "execute_result"
    }
   ],
   "source": [
    "f.readline()"
   ]
  },
  {
   "cell_type": "code",
   "execution_count": 3,
   "id": "0753a6ad-dd01-4c67-9387-ca7e9de2490f",
   "metadata": {},
   "outputs": [
    {
     "data": {
      "text/plain": [
       "['I open the \\\\Temp folder, there is no \"pip-build-ixm1pfqb\". Does anybody know how this can be and how \\n',\n",
       " 'I can fix this problem? Annotation: This is not a question specifically about the \"multiprocessing\" package, \\n',\n",
       " 'since the package is indeed part of the Python 3.5 installation. The question is about where the \"setup.py\" goes. \\n',\n",
       " 'From my own experience I know that if there are more exotic packages which are not included in the basic installation \\n',\n",
       " 'of Python and there are bugs like this (after all, a simple flag differentiating the Python versions would\\n',\n",
       " 'have sufficed to avoid this problem), one needs to have access to the \"setup.py\" file. So I try to rephrase \\n',\n",
       " 'the question: What happens to the above mentiioned file since the system even indicated the \\n',\n",
       " 'exact location int he file that causes the error, but then the file is not locatable? By the way, \\n',\n",
       " 'I am on a Windows 10 machine']"
      ]
     },
     "execution_count": 3,
     "metadata": {},
     "output_type": "execute_result"
    }
   ],
   "source": [
    "f.readlines()"
   ]
  },
  {
   "cell_type": "code",
   "execution_count": 6,
   "id": "ef6f69e2-8bee-4c3c-b6ec-276d96511aec",
   "metadata": {},
   "outputs": [
    {
     "name": "stdout",
     "output_type": "stream",
     "text": [
      "ave the parentheses. However, if I try to open above setup.py file, it cannot be opened and if\n",
      "I open the \\Temp folder, there is no \"pip-build-ixm1pfqb\". Does anybody know how this can be and how\n",
      "I can fix this problem? Annotation: This is not a question specifically about the \"multiprocessing\" package,\n",
      "since the package is indeed part of the Python 3.5 installation. The question is about where the \"setup.py\" goes.\n",
      "From my own experience I know that if there are more exotic packages which are not included in the basic installation\n",
      "of Python and there are bugs like this (after all, a simple flag differentiating the Python versions would\n",
      "have sufficed to avoid this problem), one needs to have access to the \"setup.py\" file. So I try to rephrase\n",
      "the question: What happens to the above mentiioned file since the system even indicated the\n",
      "exact location int he file that causes the error, but then the file is not locatable? By the way,\n",
      "I am on a Windows 10 machine\n"
     ]
    }
   ],
   "source": [
    "f = open('/home/ram/anaconda3/bin/ml/file.txt','r')\n",
    "for line in f.readlines():\n",
    "    print(line.strip())"
   ]
  },
  {
   "cell_type": "markdown",
   "id": "c3a53bf7-029a-46b5-8255-8cac353a3246",
   "metadata": {},
   "source": [
    "## Writing files"
   ]
  },
  {
   "cell_type": "code",
   "execution_count": 10,
   "id": "436cc401-fe94-4656-b6d6-1bfb27e27aa4",
   "metadata": {},
   "outputs": [
    {
     "name": "stdout",
     "output_type": "stream",
     "text": [
      "<_io.TextIOWrapper name='/home/ram/anaconda3/bin/ml/file1.txt' mode='w' encoding='UTF-8'>\n"
     ]
    }
   ],
   "source": [
    "f = open('/home/ram/anaconda3/bin/ml/file1.txt','w')\n",
    "print(f)"
   ]
  },
  {
   "cell_type": "code",
   "execution_count": 11,
   "id": "ff919ae3-b42b-4385-a1d9-d12d4c15612d",
   "metadata": {},
   "outputs": [],
   "source": [
    "f.write('Line 1 \\n')\n",
    "f.write('Line 2 \\n')\n",
    "f.close()"
   ]
  },
  {
   "cell_type": "code",
   "execution_count": 12,
   "id": "3cb95047-3b5d-44cb-800e-cfbe0b619145",
   "metadata": {},
   "outputs": [
    {
     "name": "stdout",
     "output_type": "stream",
     "text": [
      "<_io.TextIOWrapper name='/home/ram/anaconda3/bin/ml/file1.txt' mode='a' encoding='UTF-8'>\n"
     ]
    }
   ],
   "source": [
    "# appending files\n",
    "f = open('/home/ram/anaconda3/bin/ml/file1.txt','a')\n",
    "print(f)\n",
    "f.write('Line 3 \\n')\n",
    "f.write('Line 4 \\n')\n",
    "f.close()"
   ]
  },
  {
   "cell_type": "code",
   "execution_count": 19,
   "id": "4045f329-b22a-4451-9c6e-9771346a1771",
   "metadata": {},
   "outputs": [
    {
     "name": "stdout",
     "output_type": "stream",
     "text": [
      "<_io.TextIOWrapper name='/home/ram/anaconda3/bin/ml/file1.txt' mode='a' encoding='UTF-8'>\n"
     ]
    }
   ],
   "source": [
    "# with auto close mode\n",
    "with open('/home/ram/anaconda3/bin/ml/file1.txt','a') as f:\n",
    "    f.write('Line 5 \\n')\n",
    "    f.write('Line 6 \\n')\n",
    "    \n",
    "print(f)"
   ]
  },
  {
   "cell_type": "code",
   "execution_count": 18,
   "id": "d0e276b9-03c2-4b4c-a260-9fd2a5d28532",
   "metadata": {},
   "outputs": [
    {
     "name": "stdout",
     "output_type": "stream",
     "text": [
      "<_io.TextIOWrapper name='/home/ram/anaconda3/bin/ml/file1.txt' mode='a' encoding='UTF-8'>\n"
     ]
    }
   ],
   "source": [
    "print(f)"
   ]
  },
  {
   "cell_type": "code",
   "execution_count": 20,
   "id": "a2a09e98-75ae-4fb2-ad1f-d6deb4a1342b",
   "metadata": {},
   "outputs": [
    {
     "ename": "ValueError",
     "evalue": "I/O operation on closed file.",
     "output_type": "error",
     "traceback": [
      "\u001b[0;31m---------------------------------------------------------------------------\u001b[0m",
      "\u001b[0;31mValueError\u001b[0m                                Traceback (most recent call last)",
      "Cell \u001b[0;32mIn[20], line 1\u001b[0m\n\u001b[0;32m----> 1\u001b[0m f\u001b[38;5;241m.\u001b[39mwrite(\u001b[38;5;124m'\u001b[39m\u001b[38;5;124mLine 6 \u001b[39m\u001b[38;5;130;01m\\n\u001b[39;00m\u001b[38;5;124m'\u001b[39m)\n",
      "\u001b[0;31mValueError\u001b[0m: I/O operation on closed file."
     ]
    }
   ],
   "source": [
    "f.write('Line 6 \\n')"
   ]
  },
  {
   "cell_type": "code",
   "execution_count": 30,
   "id": "ebf357cf-b92c-4003-a22c-579e0d4abea9",
   "metadata": {},
   "outputs": [],
   "source": [
    "import csv\n",
    "from json import JSONDecodeError, JSONEncoder"
   ]
  },
  {
   "cell_type": "markdown",
   "id": "3284e30a-9bcd-4991-a5dc-ba7c0365cd70",
   "metadata": {},
   "source": [
    "# JSON"
   ]
  },
  {
   "cell_type": "markdown",
   "id": "62f6fed0-5147-4852-9fa8-c34809fc2a86",
   "metadata": {},
   "source": [
    "### Load Json"
   ]
  },
  {
   "cell_type": "code",
   "execution_count": 28,
   "id": "2a1dbd6f-4feb-47eb-bc75-17eb1018ab57",
   "metadata": {},
   "outputs": [],
   "source": [
    "jsonString = '{\"a\": \"apple\", \"b\" : \"bear\", \"c\" : \"cat\"}' #  end of file , is causing to load the jsonson. \n",
    "try:\n",
    "    json.loads(jsonString)\n",
    "except JSONDecodeError:\n",
    "    print('could not parse json')"
   ]
  },
  {
   "cell_type": "markdown",
   "id": "f312b3e0-bc50-44fd-8923-a39ee9c63a53",
   "metadata": {},
   "source": [
    "### Dump Json"
   ]
  },
  {
   "cell_type": "code",
   "execution_count": 29,
   "id": "380d14a4-b1ab-4fa5-b587-d2a75f0d00e5",
   "metadata": {},
   "outputs": [
    {
     "data": {
      "text/plain": [
       "'{\"a\": \"apple\", \"b\": \"bear\", \"c\": \"cat\"}'"
      ]
     },
     "execution_count": 29,
     "metadata": {},
     "output_type": "execute_result"
    }
   ],
   "source": [
    "pythonDict = {'a': 'apple', 'b' : 'bear', 'c' : 'cat'}\n",
    "json.dumps(pythonDict)"
   ]
  },
  {
   "cell_type": "markdown",
   "id": "ab0518fd-b307-46ea-8a32-40c7409e786b",
   "metadata": {},
   "source": [
    "### Custom json dumps"
   ]
  },
  {
   "cell_type": "code",
   "execution_count": 37,
   "id": "3c9b4e2d-0274-4256-8104-fd19f7992872",
   "metadata": {},
   "outputs": [
    {
     "data": {
      "text/plain": [
       "'{\"a\": \"aardvark\", \"b\": \"bear\", \"c\": \"cat\"}'"
      ]
     },
     "execution_count": 37,
     "metadata": {},
     "output_type": "execute_result"
    }
   ],
   "source": [
    "class Animal:\n",
    "    def __init__(self, name):\n",
    "        self.name = name\n",
    "\n",
    "class AnimalEncoder(JSONEncoder):\n",
    "    def default(self, o):\n",
    "        if type(o) == Animal:\n",
    "            return o.name\n",
    "        return super().default(o)\n",
    "\n",
    "pythonDict = {'a' : Animal('aardvark'), 'b' : Animal('bear'), 'c': Animal('cat')}\n",
    "json.dumps(pythonDict, cls=AnimalEncoder)"
   ]
  },
  {
   "cell_type": "code",
   "execution_count": null,
   "id": "e8cdd880-f16b-4d6d-88fa-eaf294b88f2e",
   "metadata": {},
   "outputs": [],
   "source": []
  }
 ],
 "metadata": {
  "kernelspec": {
   "display_name": "Python 3 (ipykernel)",
   "language": "python",
   "name": "python3"
  },
  "language_info": {
   "codemirror_mode": {
    "name": "ipython",
    "version": 3
   },
   "file_extension": ".py",
   "mimetype": "text/x-python",
   "name": "python",
   "nbconvert_exporter": "python",
   "pygments_lexer": "ipython3",
   "version": "3.11.7"
  }
 },
 "nbformat": 4,
 "nbformat_minor": 5
}
