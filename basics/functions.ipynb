{
 "cells": [
  {
   "cell_type": "markdown",
   "id": "30ddea81-347e-473e-b827-a77431e6a088",
   "metadata": {},
   "source": [
    "# Functions"
   ]
  },
  {
   "cell_type": "code",
   "execution_count": 34,
   "id": "c350349c-b915-40f1-8bbc-7dfe8de49051",
   "metadata": {},
   "outputs": [],
   "source": [
    "import math"
   ]
  },
  {
   "cell_type": "code",
   "execution_count": 39,
   "id": "ec59a531-016b-44b8-9199-06008b8fbd0a",
   "metadata": {},
   "outputs": [
    {
     "data": {
      "text/plain": [
       "3"
      ]
     },
     "execution_count": 39,
     "metadata": {},
     "output_type": "execute_result"
    }
   ],
   "source": [
    "def performOperation(num1, num2, operation):\n",
    "    if operation == 'sum':\n",
    "        return num1 + num2;\n",
    "    elif operation == 'mul':\n",
    "        return num1 * num2;\n",
    "    else:\n",
    "        return -1;\n",
    "\n",
    "performOperation(2,1, 'sum')"
   ]
  },
  {
   "cell_type": "markdown",
   "id": "2e248f77-0b91-46a1-91c2-391646e441a4",
   "metadata": {},
   "source": [
    "### Named Parameter"
   ]
  },
  {
   "cell_type": "code",
   "execution_count": 11,
   "id": "1ead1b15-5dad-4435-af7a-ea83ee2bac18",
   "metadata": {},
   "outputs": [
    {
     "data": {
      "text/plain": [
       "7"
      ]
     },
     "execution_count": 11,
     "metadata": {},
     "output_type": "execute_result"
    }
   ],
   "source": [
    "def performOperation(num1, num2, operation = 'sum'):\n",
    "    if operation == 'sum':\n",
    "        return num1 + num2;\n",
    "    elif operation == 'mul':\n",
    "        return num1 * num2;\n",
    "    else:\n",
    "        return -1;\n",
    "\n",
    "performOperation(5,2)"
   ]
  },
  {
   "cell_type": "code",
   "execution_count": 18,
   "id": "76e8514f-3a21-4543-a1a5-5a9d80872d00",
   "metadata": {},
   "outputs": [
    {
     "name": "stdout",
     "output_type": "stream",
     "text": [
      "new mssage\n"
     ]
    },
    {
     "data": {
      "text/plain": [
       "10"
      ]
     },
     "execution_count": 18,
     "metadata": {},
     "output_type": "execute_result"
    }
   ],
   "source": [
    "def performOperation(num1, num2, operation = 'sum', msg = \"default message\"):\n",
    "    print(msg)\n",
    "    if operation == 'sum':\n",
    "        return num1 + num2;\n",
    "    elif operation == 'mul':\n",
    "        return num1 * num2;\n",
    "    else:\n",
    "        return -1;\n",
    "\n",
    "performOperation(5,2, operation= 'mul', msg='new mssage')"
   ]
  },
  {
   "cell_type": "code",
   "execution_count": 20,
   "id": "0fd13fbe-0f55-45d1-bc0d-6ba66aeab5b1",
   "metadata": {},
   "outputs": [
    {
     "name": "stdout",
     "output_type": "stream",
     "text": [
      "new mssage\n"
     ]
    },
    {
     "data": {
      "text/plain": [
       "10"
      ]
     },
     "execution_count": 20,
     "metadata": {},
     "output_type": "execute_result"
    }
   ],
   "source": [
    "# positional argument can be vary in order\n",
    "def performOperation(num1, num2, operation = 'sum', msg = \"default message\"):\n",
    "    print(msg)\n",
    "    if operation == 'sum':\n",
    "        return num1 + num2;\n",
    "    elif operation == 'mul':\n",
    "        return num1 * num2;\n",
    "    else:\n",
    "        return -1;\n",
    "\n",
    "performOperation(5,2, msg='new mssage', operation= 'mul')"
   ]
  },
  {
   "cell_type": "markdown",
   "id": "e63397e7-e0ac-41dc-9ace-5968510a59ce",
   "metadata": {},
   "source": [
    "## *args"
   ]
  },
  {
   "cell_type": "code",
   "execution_count": 24,
   "id": "b606fec4-af75-468a-8542-48ed4f6c3e98",
   "metadata": {},
   "outputs": [
    {
     "name": "stdout",
     "output_type": "stream",
     "text": [
      "(1, 2, 3)\n"
     ]
    }
   ],
   "source": [
    "def arguments(*args):\n",
    "    print(args)\n",
    "arguments(1,2,3)"
   ]
  },
  {
   "cell_type": "code",
   "execution_count": 29,
   "id": "1857f6e5-dc61-449a-b387-c35111cfcf63",
   "metadata": {},
   "outputs": [
    {
     "ename": "TypeError",
     "evalue": "arguments() got an unexpected keyword argument 'msg'",
     "output_type": "error",
     "traceback": [
      "\u001b[0;31m---------------------------------------------------------------------------\u001b[0m",
      "\u001b[0;31mTypeError\u001b[0m                                 Traceback (most recent call last)",
      "Cell \u001b[0;32mIn[29], line 1\u001b[0m\n\u001b[0;32m----> 1\u001b[0m arguments(\u001b[38;5;241m1\u001b[39m,\u001b[38;5;241m2\u001b[39m,\u001b[38;5;241m3\u001b[39m, msg\u001b[38;5;241m=\u001b[39m\u001b[38;5;124m'\u001b[39m\u001b[38;5;124m'\u001b[39m)\n",
      "\u001b[0;31mTypeError\u001b[0m: arguments() got an unexpected keyword argument 'msg'"
     ]
    }
   ],
   "source": [
    "arguments(1,2,3, msg='');"
   ]
  },
  {
   "cell_type": "code",
   "execution_count": 28,
   "id": "8e412888-b772-407f-818c-d1772f4412c1",
   "metadata": {},
   "outputs": [
    {
     "name": "stdout",
     "output_type": "stream",
     "text": [
      "(1, 2, 3)\n",
      "{'msg': 'keyword arguments'}\n"
     ]
    }
   ],
   "source": [
    "def arguments1(*args, **kwargs):\n",
    "    print(args)\n",
    "    print(kwargs)\n",
    "arguments1(1,2,3, msg='keyword arguments')"
   ]
  },
  {
   "cell_type": "markdown",
   "id": "db676cbd-9afd-486c-b3c6-ec36a8c72bad",
   "metadata": {},
   "source": [
    "## *kwargs"
   ]
  },
  {
   "cell_type": "code",
   "execution_count": 35,
   "id": "0e1d7423-47a9-4fc4-ae3f-93d5b94e1034",
   "metadata": {},
   "outputs": [
    {
     "data": {
      "text/plain": [
       "6"
      ]
     },
     "execution_count": 35,
     "metadata": {},
     "output_type": "execute_result"
    }
   ],
   "source": [
    "def performOperation(*args, operation):\n",
    "    if operation == 'sum':\n",
    "        return sum(args)\n",
    "    elif operation == 'mul':\n",
    "        return math.prod(args)\n",
    "    else:\n",
    "        return -1;\n",
    "\n",
    "performOperation(2,2,2, operation='sum')"
   ]
  },
  {
   "cell_type": "code",
   "execution_count": 36,
   "id": "de967ed0-fbc1-4866-9874-13ddade2fb12",
   "metadata": {},
   "outputs": [
    {
     "data": {
      "text/plain": [
       "8"
      ]
     },
     "execution_count": 36,
     "metadata": {},
     "output_type": "execute_result"
    }
   ],
   "source": [
    "performOperation(2,2,2, operation='mul')"
   ]
  },
  {
   "cell_type": "code",
   "execution_count": 37,
   "id": "b00f13cb-0aff-4c1a-8701-30cca7153fc3",
   "metadata": {},
   "outputs": [
    {
     "data": {
      "text/plain": [
       "-1"
      ]
     },
     "execution_count": 37,
     "metadata": {},
     "output_type": "execute_result"
    }
   ],
   "source": [
    "performOperation(2,2,2, operation='-')"
   ]
  },
  {
   "cell_type": "markdown",
   "id": "5b915def-cbb0-4482-8aad-ef4bf74573dc",
   "metadata": {},
   "source": [
    "# Scope\n",
    "## locals()"
   ]
  },
  {
   "cell_type": "code",
   "execution_count": 42,
   "id": "81c5cb26-1d13-466a-ba47-21b1e839fc92",
   "metadata": {},
   "outputs": [
    {
     "name": "stdout",
     "output_type": "stream",
     "text": [
      "print local valiable {'operation': '-', 'args': (2, 2, 2)}\n"
     ]
    },
    {
     "data": {
      "text/plain": [
       "-1"
      ]
     },
     "execution_count": 42,
     "metadata": {},
     "output_type": "execute_result"
    }
   ],
   "source": [
    "def performOperation(*args, operation):\n",
    "    print(f'print local valiable {locals()}')\n",
    "    if operation == 'sum':\n",
    "        return sum(args)\n",
    "    elif operation == 'mul':\n",
    "        return math.prod(args)\n",
    "    else:\n",
    "        return -1;\n",
    "performOperation(2,2,2, operation='-')"
   ]
  },
  {
   "cell_type": "markdown",
   "id": "4333a212-e81c-4aeb-955f-881d499378a0",
   "metadata": {},
   "source": [
    "## globals()"
   ]
  },
  {
   "cell_type": "code",
   "execution_count": null,
   "id": "3cc7f95c-ccc6-4ba1-9bc8-2272510fe9e3",
   "metadata": {},
   "outputs": [],
   "source": [
    "# globals()"
   ]
  },
  {
   "cell_type": "markdown",
   "id": "f70d89ea-75bd-412b-a171-f647eb538b4d",
   "metadata": {},
   "source": [
    "## Global and Local variable scope"
   ]
  },
  {
   "cell_type": "code",
   "execution_count": 44,
   "id": "7ebde7c1-37f9-4348-9ac8-2d61643e4a54",
   "metadata": {},
   "outputs": [],
   "source": [
    "#function check local variable first and then global variable"
   ]
  },
  {
   "cell_type": "markdown",
   "id": "ac20ee30-0d98-47f0-90fb-3df1c44371af",
   "metadata": {},
   "source": [
    "## inner function"
   ]
  },
  {
   "cell_type": "code",
   "execution_count": 46,
   "id": "9ae0ab3d-76d0-4dc2-8f9d-c0384f8bb8d4",
   "metadata": {},
   "outputs": [
    {
     "name": "stdout",
     "output_type": "stream",
     "text": [
      "3\n",
      "5\n",
      "{'varA': 1, 'varC': 2}\n"
     ]
    }
   ],
   "source": [
    "varA = 10\n",
    "def function1(varA, varB):\n",
    "    print(varA)\n",
    "    print(varB)\n",
    "    def innerfunction(varA, varC):\n",
    "        print(locals())\n",
    "    innerfunction(1,2)\n",
    "function1(3,5)"
   ]
  },
  {
   "cell_type": "markdown",
   "id": "95a84e34-ac60-4b86-85be-6f048d29a1fa",
   "metadata": {},
   "source": [
    "## Function vs variable"
   ]
  },
  {
   "cell_type": "code",
   "execution_count": 50,
   "id": "a80aa73f-a0e3-4b92-8560-6bfe90ee500e",
   "metadata": {},
   "outputs": [
    {
     "name": "stdout",
     "output_type": "stream",
     "text": [
      "aa\n",
      "aa\n",
      "aaa\n"
     ]
    }
   ],
   "source": [
    "def fun1(txt):\n",
    "    return txt*2\n",
    "def fun2(txt):\n",
    "    return txt + txt;\n",
    "def fun3(txt):\n",
    "    return txt*3\n",
    "processFuctions = [fun1, fun2, fun3];\n",
    "for fun in processFuctions:\n",
    "    print(fun('a'));"
   ]
  },
  {
   "cell_type": "markdown",
   "id": "8f9bec32-a91a-4081-b7a6-c8a2cbfb31d5",
   "metadata": {},
   "source": [
    "## Lambda function"
   ]
  },
  {
   "cell_type": "code",
   "execution_count": 52,
   "id": "134fac14-2508-461e-9b9d-5dc56e0963b2",
   "metadata": {},
   "outputs": [
    {
     "data": {
      "text/plain": [
       "10"
      ]
     },
     "execution_count": 52,
     "metadata": {},
     "output_type": "execute_result"
    }
   ],
   "source": [
    "(lambda x: x +5)(5)"
   ]
  },
  {
   "cell_type": "code",
   "execution_count": 53,
   "id": "3f48124b-ab6b-408a-a882-67f1e1ef1130",
   "metadata": {},
   "outputs": [
    {
     "data": {
      "text/plain": [
       "[1, 2, 3, 4, 5]"
      ]
     },
     "execution_count": 53,
     "metadata": {},
     "output_type": "execute_result"
    }
   ],
   "source": [
    "myList = [5,4,3,2,1]\n",
    "sorted(myList)"
   ]
  },
  {
   "cell_type": "code",
   "execution_count": 63,
   "id": "38370bac-fc50-463d-ac2b-c93ac52520fe",
   "metadata": {},
   "outputs": [],
   "source": [
    "myList = [{'num': 3}, {'num': 2},{'num', 1}];\n",
    "#sorted(myList, key=lambda x: x['num'])"
   ]
  },
  {
   "cell_type": "code",
   "execution_count": null,
   "id": "ed3c9868-2080-4243-9ee1-ee062c4c4fc7",
   "metadata": {},
   "outputs": [],
   "source": []
  }
 ],
 "metadata": {
  "kernelspec": {
   "display_name": "Python 3 (ipykernel)",
   "language": "python",
   "name": "python3"
  },
  "language_info": {
   "codemirror_mode": {
    "name": "ipython",
    "version": 3
   },
   "file_extension": ".py",
   "mimetype": "text/x-python",
   "name": "python",
   "nbconvert_exporter": "python",
   "pygments_lexer": "ipython3",
   "version": "3.11.7"
  }
 },
 "nbformat": 4,
 "nbformat_minor": 5
}
